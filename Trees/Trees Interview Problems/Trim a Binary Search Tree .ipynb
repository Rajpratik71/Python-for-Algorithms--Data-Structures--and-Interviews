{
 "cells": [
  {
   "cell_type": "markdown",
   "metadata": {},
   "source": [
    "# Trim a Binary Search Tree \n",
    "\n",
    "## Problem Statement\n",
    "\n",
    "Given the root of a binary search tree and 2 numbers min and max, trim the tree such that all the numbers in the new tree are between min and max (inclusive). The resulting tree should still be a valid binary search tree. So, if we get this tree as input:\n",
    "___\n",
    "\n",
    "![title](bst1.png)\n",
    "___\n",
    "and we’re given **min value as 5** and **max value as 13**, then the resulting binary search tree should be: \n",
    "___\n",
    "![title](bst_trim.png)\n",
    "___\n",
    "We should remove all the nodes whose value is not between min and max. \n",
    "\n",
    "___\n",
    "** Feel free to reference the lecture on Binary Search Tree for the node class, but what is more important here is the logic of your function. In which case your function should be in the form:**"
   ]
  },
  {
   "cell_type": "code",
   "execution_count": 5,
   "metadata": {},
   "outputs": [],
   "source": [
    "import collections\n",
    "\n",
    "\n",
    "def levelOrderPrint(tree):\n",
    "    #Code here\n",
    "    nodes = collections.deque([tree])\n",
    "    current_count = 1\n",
    "    next_count = 0\n",
    "    \n",
    "    while len(nodes) > 0:\n",
    "        next_node = nodes.popleft()\n",
    "#         print(\"Current count is \" + str(current_count))\n",
    "        current_count -= 1\n",
    "        \n",
    "        print(next_node.val, end=' ')\n",
    "        \n",
    "        if next_node.left:\n",
    "            nodes.append(next_node.left)\n",
    "            next_count += 1\n",
    "            \n",
    "        if next_node.right:\n",
    "            nodes.append(next_node.right)\n",
    "            next_count += 1\n",
    "            \n",
    "        if current_count == 0:\n",
    "#             print(\"Next level\")\n",
    "            print('\\n')\n",
    "            current_count, next_count = next_count, 0\n",
    "            "
   ]
  },
  {
   "cell_type": "code",
   "execution_count": 12,
   "metadata": {},
   "outputs": [],
   "source": [
    "def trimBST(tree, minVal, maxVal):\n",
    "    if not tree:\n",
    "        return\n",
    "    \n",
    "    tree.left = trimBST(tree.left, minVal, maxVal)\n",
    "    tree.right = trimBST(tree.right, minVal, maxVal)\n",
    "\n",
    "\n",
    "    if minVal <= tree.val <= maxVal:\n",
    "        return tree\n",
    "    if tree.val < minVal:\n",
    "        return tree.right\n",
    "    if tree.val > maxVal:\n",
    "        return tree.left\n",
    "    \n",
    "\n",
    "# Use tree.left , tree.right , and tree.val as your methods to call"
   ]
  },
  {
   "cell_type": "code",
   "execution_count": 13,
   "metadata": {},
   "outputs": [],
   "source": [
    "class Node:\n",
    "    def __init__(self, val):\n",
    "        self.right = None\n",
    "        self.left = None\n",
    "        self.val = val\n",
    "\n",
    "tree = Node(8)\n",
    "tree.left = Node(3)\n",
    "tree.left.left = Node(1)\n",
    "tree.left.right = Node(6)\n",
    "tree.left.right.left = Node(4)\n",
    "tree.left.right.right = Node(7)\n",
    "\n",
    "tree.right = Node(10)\n",
    "tree.right.right = Node(14)\n",
    "tree.right.right.left = Node(13)"
   ]
  },
  {
   "cell_type": "code",
   "execution_count": 14,
   "metadata": {},
   "outputs": [
    {
     "name": "stdout",
     "output_type": "stream",
     "text": [
      "8 \n",
      "\n",
      "3 10 \n",
      "\n",
      "1 6 14 \n",
      "\n",
      "4 7 13 \n",
      "\n",
      "8 \n",
      "\n",
      "6 10 \n",
      "\n",
      "7 13 \n",
      "\n"
     ]
    }
   ],
   "source": [
    "levelOrderPrint(tree)\n",
    "trimBST(tree, 5, 13)\n",
    "levelOrderPrint(tree)\n",
    "\n"
   ]
  },
  {
   "cell_type": "markdown",
   "metadata": {},
   "source": [
    "** There is no solution cell because the nature of the code should be more logical and a test would essentially give away the answer. Just focus your answer to fill out the logic of the solution using the methods described above **\n",
    "\n",
    "## Best of luck!"
   ]
  }
 ],
 "metadata": {
  "kernelspec": {
   "display_name": "Python 3",
   "language": "python",
   "name": "python3"
  },
  "language_info": {
   "codemirror_mode": {
    "name": "ipython",
    "version": 3
   },
   "file_extension": ".py",
   "mimetype": "text/x-python",
   "name": "python",
   "nbconvert_exporter": "python",
   "pygments_lexer": "ipython3",
   "version": "3.6.3"
  }
 },
 "nbformat": 4,
 "nbformat_minor": 1
}
