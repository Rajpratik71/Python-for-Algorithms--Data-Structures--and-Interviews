{
 "cells": [
  {
   "cell_type": "markdown",
   "metadata": {},
   "source": [
    "# 0"
   ]
  },
  {
   "cell_type": "code",
   "execution_count": 572,
   "metadata": {},
   "outputs": [],
   "source": [
    "\n",
    "\n",
    "class NodeKey():\n",
    "    def __init__(self, value, name=None):\n",
    "        self.name = name\n",
    "        self.value = value\n",
    "\n",
    "    def __lt__(self, other):\n",
    "        return self.value < other.value or (self.value == other.value and self.name < other.name)\n",
    "\n",
    "    def __le__(self, other):\n",
    "        return self < other or self == other\n",
    "\n",
    "    def __eq__(self, other):\n",
    "        return self.value == other.value and self.name == other.name\n",
    "\n",
    "    def __ne__(self, other):\n",
    "        return self.value != other.value or self.name != other.name\n",
    "\n",
    "    def __gt__(self, other):\n",
    "        return self.value > other.value or (self.value == other.value and self.name > other.name)\n",
    "\n",
    "    def __ge__(self, other):\n",
    "        return self > other or self == other\n",
    "\n",
    "    def __str__(self):\n",
    "        if self.name is None:\n",
    "            return str(self.value)\n",
    "        else:\n",
    "            return str(self.value) + \",\" + str(self.name)\n",
    "\n",
    "\n",
    "class Node():\n",
    "    def __init__(self, value, name=None):\n",
    "        self.key = NodeKey(value, name)\n",
    "        self.value = value\n",
    "        self.parent = None\n",
    "        self.left_child = None\n",
    "        self.right_child = None\n",
    "        self.height = 0\n",
    "\n",
    "    def __str__(self):\n",
    "        return str(self.key)\n",
    "\n",
    "    def next(self):\n",
    "        \"\"\" Returns the next Node (next key value larger)\n",
    "        \"\"\"\n",
    "        # If has right child, select, then traverse left all the way down\n",
    "        if self.right_child is not None:\n",
    "            node = self.right_child\n",
    "            while node.left_child is not None:\n",
    "                node = node.left_child\n",
    "            return node\n",
    "\n",
    "        node = self\n",
    "        # Try to find an ancestor that is a left child, return parent of that\n",
    "        while node.parent is not None:\n",
    "            if node.parent.left_child == node:\n",
    "                return node.parent\n",
    "            node = node.parent\n",
    "\n",
    "        # Nothing greater than this\n",
    "        return None\n",
    "\n",
    "    def previous(self):\n",
    "        \"\"\" Returns the previous Node (next key value smaller)\n",
    "        \"\"\"\n",
    "        # If has left child, select, then traverse right all the way down\n",
    "        if self.left_child is not None:\n",
    "            node = self.left_child\n",
    "            while node.right_child is not None:\n",
    "                node = node.right_child\n",
    "            return node\n",
    "\n",
    "        node = self\n",
    "        # Try to find an ancestor that is a right child, return parent of that\n",
    "        while node.parent is not None:\n",
    "            if node.parent.right_child == node:\n",
    "                return node.parent\n",
    "            node = node.parent\n",
    "\n",
    "        #  Nothing smaller than this\n",
    "        return None\n",
    "\n",
    "    def is_leaf(self):\n",
    "        \"\"\" Return True if Leaf, False Otherwise\n",
    "        \"\"\"\n",
    "        return self.height == 0\n",
    "\n",
    "    def max_child_height(self):\n",
    "        \"\"\" Return Height Of Tallest Child or -1 if No Children\n",
    "        \"\"\"\n",
    "        if self.left_child and self.right_child:\n",
    "            # two children\n",
    "            return max(self.left_child.height, self.right_child.height)\n",
    "        elif self.left_child is not None and self.right_child is None:\n",
    "            # one child, on left\n",
    "            return self.left_child.height\n",
    "        elif self.left_child is None and self.right_child is not None:\n",
    "            # one child, on right\n",
    "            return self.right_child.height\n",
    "        else:\n",
    "            # no Children\n",
    "            return -1\n",
    "\n",
    "    def weigh(self):\n",
    "        \"\"\" Return How Left or Right Sided the Tree Is\n",
    "        Positive Number Means Left Side Heavy, Negative Number Means Right Side Heavy\n",
    "        \"\"\"\n",
    "        if self.left_child is None:\n",
    "            left_height = -1\n",
    "        else:\n",
    "            left_height = self.left_child.height\n",
    "\n",
    "        if self.right_child is None:\n",
    "            right_height = -1\n",
    "        else:\n",
    "            right_height = self.right_child.height\n",
    "\n",
    "        balance = left_height - right_height\n",
    "        return balance\n",
    "\n",
    "    def update_height(self):\n",
    "        \"\"\" Updates Height of This Node and All Ancestor Nodes, As Necessary\n",
    "        \"\"\"\n",
    "        # TODO: should stop iterating when reaches correct height\n",
    "        node = self\n",
    "        while node is not None:\n",
    "            node.height = node.max_child_height() + 1\n",
    "            node = node.parent\n",
    "\n",
    "    def root(self):\n",
    "        node = self\n",
    "        while node.parent is not None:\n",
    "            node = node.parent\n",
    "        return node\n",
    "\n",
    "    def balance(self, tree):\n",
    "        \"\"\" Balances node, sets new tree root if appropriate\n",
    "        Note: If balancing does occur, this node will move to a lower position on the tree\n",
    "        \"\"\"\n",
    "        while self.weigh() < -1 or self.weigh() > 1:\n",
    "            if self.weigh() < 0:\n",
    "                # right side heavy\n",
    "                if self.right_child.weigh() > 0:\n",
    "                    # right-side left-side heavy\n",
    "                    self.right_child.rotate_left()\n",
    "                # right-side right-side heavy\n",
    "                new_top = self.rotate_right()\n",
    "            else:\n",
    "                # left side heavy\n",
    "                if self.left_child.weigh() < 0:\n",
    "                    # left-side right-side heavy\n",
    "                    self.left_child.rotate_right()\n",
    "                # left-side left-side heavy\n",
    "                new_top = self.rotate_left()\n",
    "\n",
    "            if new_top.parent is None:\n",
    "                tree.root = new_top\n",
    "\n",
    "    def out(self):\n",
    "        \"\"\" Return String Representing Tree From Current Node Down\n",
    "        Only Works for Small Trees\n",
    "        \"\"\"\n",
    "        start_node = self\n",
    "        space_symbol = \"*\"\n",
    "        spaces_count = 250\n",
    "        out_string = \"\"\n",
    "        initial_spaces_string = space_symbol * spaces_count + \"\\n\"\n",
    "        if start_node is None:\n",
    "            return \"AVLTree is empty\"\n",
    "        else:\n",
    "            level = [start_node]\n",
    "            while len([i for i in level if (not i is None)]) > 0:\n",
    "                level_string = initial_spaces_string\n",
    "                for i in xrange(len(level)):\n",
    "                    j = (i + 1) * spaces_count / (len(level) + 1)\n",
    "                    level_string = level_string[:j] + (str(level[i]) if level[i] else space_symbol) + level_string[j + 1:]\n",
    "                level_next = []\n",
    "                for i in level:\n",
    "                    level_next += ([i.left_child, i.right_child] if i else [None, None])\n",
    "                level = level_next\n",
    "                out_string += level_string\n",
    "        return out_string\n",
    "\n",
    "    def rotate_right(self):\n",
    "        assert(self.right_child is not None)\n",
    "        to_promote = self.right_child\n",
    "        swapper = to_promote.left_child\n",
    "\n",
    "        # swap children\n",
    "        self.right_child = swapper\n",
    "        to_promote.left_child = self\n",
    "        new_top = self._swap_parents(to_promote, swapper)\n",
    "        if swapper is not None:\n",
    "            swapper.update_height()\n",
    "        self.update_height()\n",
    "        return new_top\n",
    "\n",
    "    def rotate_left(self):\n",
    "        assert(self.left_child is not None)\n",
    "        to_promote = self.left_child\n",
    "        swapper = to_promote.right_child\n",
    "\n",
    "        # swap children\n",
    "        self.left_child = swapper\n",
    "        to_promote.right_child = self\n",
    "        new_top = self._swap_parents(to_promote, swapper)\n",
    "        if swapper is not None:\n",
    "            swapper.update_height()\n",
    "        self.update_height()\n",
    "        return new_top\n",
    "\n",
    "    def _swap_parents(self, promote, swapper):\n",
    "        \"\"\" re-assign parents, returns new top\n",
    "        \"\"\"\n",
    "        promote.parent = self.parent\n",
    "        self.parent = promote\n",
    "        if swapper is not None:\n",
    "            swapper.parent = self\n",
    "\n",
    "        if promote.parent is not None:\n",
    "            if promote.parent.right_child == self:\n",
    "                promote.parent.right_child = promote\n",
    "            elif promote.parent.left_child == self:\n",
    "                promote.parent.left_child = promote\n",
    "        return promote\n",
    "\n",
    "\n",
    "class BinaryTree():\n",
    "    \"\"\" Binary Search Tree\n",
    "    Uses AVL Tree\n",
    "    \"\"\"\n",
    "    def __init__(self, *args):\n",
    "        self.root = None  # root Node\n",
    "        self.element_count = 0\n",
    "        if len(args) == 1:\n",
    "            for i in args[0]:\n",
    "                self.insert(i)\n",
    "\n",
    "    def __len__(self):\n",
    "        return self.element_count\n",
    "\n",
    "    def __str__(self):\n",
    "        return self.out()\n",
    "\n",
    "    def height(self):\n",
    "        \"\"\" Return Max Height Of Tree\n",
    "        \"\"\"\n",
    "        if self.root:\n",
    "            return self.root.height\n",
    "        else:\n",
    "            return 0\n",
    "\n",
    "    def balance(self):\n",
    "        \"\"\" Perform balancing Operation\n",
    "        \"\"\"\n",
    "        if self.root is not None:\n",
    "            self.root.balance(self)\n",
    "\n",
    "    def insert(self, value, name=None):\n",
    "        if self.root is None:\n",
    "            # If nothing in tree\n",
    "            self.root = Node(value, name)\n",
    "        else:\n",
    "            if self.find(value, name) is None:\n",
    "                # If key/name pair doesn't exist in tree\n",
    "                self.element_count += 1\n",
    "                self.add_as_child(self.root, Node(value, name))\n",
    "\n",
    "    def add_as_child(self, parent_node, child_node):\n",
    "        if child_node.key < parent_node.key:\n",
    "            # should go on left\n",
    "            if parent_node.left_child is None:\n",
    "                # can add to this node\n",
    "                parent_node.left_child = child_node\n",
    "                child_node.parent = parent_node\n",
    "                child_node.update_height()\n",
    "            else:\n",
    "                self.add_as_child(parent_node.left_child, child_node)\n",
    "        else:\n",
    "            # should go on right\n",
    "            if parent_node.right_child is None:\n",
    "                # can add to this node\n",
    "                parent_node.right_child = child_node\n",
    "                child_node.parent = parent_node\n",
    "                child_node.update_height()\n",
    "            else:\n",
    "                self.add_as_child(parent_node.right_child, child_node)\n",
    "\n",
    "        if parent_node.weigh() not in [-1, 0, 1]:\n",
    "            parent_node.balance(self)\n",
    "\n",
    "    def inorder_non_recursive(self):\n",
    "        node = self.root\n",
    "        retlst = []\n",
    "        while node.left_child:\n",
    "            node = node.left_child\n",
    "        while node:\n",
    "            if node.key.name is not None:\n",
    "                retlst.append([node.key.value, node.key.name])\n",
    "            else:\n",
    "                retlst.append(node.key.value)\n",
    "            if node.right_child:\n",
    "                node = node.right_child\n",
    "                while node.left_child:\n",
    "                    node = node.left_child\n",
    "            else:\n",
    "                while node.parent and (node == node.parent.right_child):\n",
    "                    node = node.parent\n",
    "                node = node.parent\n",
    "        return retlst\n",
    "\n",
    "    def preorder(self, node, retlst=None):\n",
    "        if retlst is None:\n",
    "            retlst = []\n",
    "        if node.key.name is not None:\n",
    "            retlst.append([node.key.value, node.key.name])\n",
    "        else:\n",
    "            retlst.append(node.key.value)\n",
    "        if node.left_child:\n",
    "            retlst = self.preorder(node.left_child, retlst)\n",
    "        if node.right_child:\n",
    "            retlst = self.preorder(node.right_child, retlst)\n",
    "        return retlst\n",
    "\n",
    "    def inorder(self, node, retlst=None):\n",
    "        if retlst is None:\n",
    "            retlst = []\n",
    "        if node.left_child:\n",
    "            retlst = self.inorder(node.left_child, retlst)\n",
    "        if node.key.name is not None:\n",
    "            retlst.append([node.key.value, node.key.name])\n",
    "        else:\n",
    "            retlst.append(node.key.value)\n",
    "        if node.right_child:\n",
    "            retlst = self.inorder(node.right_child, retlst)\n",
    "        return retlst\n",
    "\n",
    "    def postorder(self, node, retlst=None):\n",
    "        if retlst is None:\n",
    "            retlst = []\n",
    "        if node.left_child:\n",
    "            retlst = self.postorder(node.left_child, retlst)\n",
    "        if node.right_child:\n",
    "            retlst = self.postorder(node.right_child, retlst)\n",
    "        if node.key.name is not None:\n",
    "            retlst.append([node.key.value, node.key.name])\n",
    "        else:\n",
    "            retlst.append(node.key.value)\n",
    "        return retlst\n",
    "\n",
    "    def as_list(self, pre_in_post):\n",
    "        if not self.root:\n",
    "            return []\n",
    "        if pre_in_post == 0:\n",
    "            return self.preorder(self.root)\n",
    "        elif pre_in_post == 1:\n",
    "            return self.inorder(self.root)\n",
    "        elif pre_in_post == 2:\n",
    "            return self.postorder(self.root)\n",
    "        elif pre_in_post == 3:\n",
    "            return self.inorder_non_recursive()\n",
    "\n",
    "    def find(self, value, name=None):\n",
    "        return self.find_in_subtree(self.root, NodeKey(value, name))\n",
    "\n",
    "    def find_in_subtree(self, node, node_key):\n",
    "        if node is None:\n",
    "            return None  # key not found\n",
    "        if node_key < node.key:\n",
    "            return self.find_in_subtree(node.left_child, node_key)\n",
    "        elif node_key > node.key:\n",
    "            return self.find_in_subtree(node.right_child, node_key)\n",
    "        else:  # key is equal to node key\n",
    "            return node\n",
    "\n",
    "    def remove(self, key):\n",
    "        # first find\n",
    "        node = self.find(key)\n",
    "\n",
    "        if not node is None:\n",
    "            self.element_count -= 1\n",
    "\n",
    "            if node.is_leaf():\n",
    "                # The node is a leaf.  Remove it and return.\n",
    "                self.remove_leaf(node)\n",
    "            elif (node.left_child is not None and node.right_child is None) or (node.left_child is None and node.right_child is not None):\n",
    "                # The node has only 1 child. Make the pointer to this node point to the child of this node.\n",
    "                self.remove_branch(node)\n",
    "            else:\n",
    "                # The node has 2 children. Swap items with the successor (the smallest item in its right subtree) and\n",
    "                # delete the successor from the right subtree of the node.\n",
    "                assert node.left_child and node.right_child\n",
    "                self.swap_with_successor_and_remove(node)\n",
    "\n",
    "    def remove_leaf(self, node):\n",
    "        parent = node.parent\n",
    "        if parent:\n",
    "            if parent.left_child == node:\n",
    "                parent.left_child = None\n",
    "            else:\n",
    "                assert (parent.right_child == node)\n",
    "                parent.right_child = None\n",
    "            parent.update_height()\n",
    "        else:\n",
    "            self.root = None\n",
    "\n",
    "        # rebalance\n",
    "        node = parent\n",
    "        while node:\n",
    "            if not node.weigh() in [-1, 0, 1]:\n",
    "                node.balance(self)\n",
    "            node = node.parent\n",
    "\n",
    "    def remove_branch(self, node):\n",
    "        parent = node.parent\n",
    "        if parent:\n",
    "            if parent.left_child == node:\n",
    "                parent.left_child = node.right_child or node.left_child\n",
    "            else:\n",
    "                assert (parent.right_child == node)\n",
    "                parent.right_child = node.right_child or node.left_child\n",
    "\n",
    "            if node.left_child:\n",
    "                node.left_child.parent = parent\n",
    "            else:\n",
    "                assert node.right_child\n",
    "                node.right_child.parent = parent\n",
    "            parent.update_height()\n",
    "\n",
    "        # rebalance\n",
    "        node = parent\n",
    "        while node:\n",
    "            if not node.weigh() in [-1, 0, 1]:\n",
    "                node.balance(self)\n",
    "            node = node.parent\n",
    "\n",
    "    def swap_with_successor_and_remove(self, node):\n",
    "        successor = node.right_child\n",
    "        while successor.left_child:\n",
    "            successor = successor.left_child\n",
    "        self.swap_nodes(node, successor)\n",
    "        assert (node.left_child is None)\n",
    "        if node.height == 0:\n",
    "            self.remove_leaf(node)\n",
    "        else:\n",
    "            self.remove_branch(node)\n",
    "\n",
    "    def swap_nodes(self, node_1, node_2):\n",
    "        assert (node_1.height > node_2.height)\n",
    "        parent_1 = node_1.parent\n",
    "        left_child_1 = node_1.left_child\n",
    "        right_child_1 = node_1.right_child\n",
    "        parent_2 = node_2.parent\n",
    "        assert (not parent_2 is None)\n",
    "        assert (parent_2.left_child == node_2 or parent_2 == node_1)\n",
    "        left_child_2 = node_2.left_child\n",
    "        assert (left_child_2 is None)\n",
    "        right_child_2 = node_2.right_child\n",
    "\n",
    "        # swap heights\n",
    "        tmp = node_1.height\n",
    "        node_1.height = node_2.height\n",
    "        node_2.height = tmp\n",
    "\n",
    "        if parent_1:\n",
    "            if parent_1.left_child == node_1:\n",
    "                parent_1.left_child = node_2\n",
    "            else:\n",
    "                assert (parent_1.right_child == node_1)\n",
    "                parent_1.right_child = node_2\n",
    "            node_2.parent = parent_1\n",
    "        else:\n",
    "            self.root = node_2\n",
    "            node_2.parent = None\n",
    "\n",
    "        node_2.left_child = left_child_1\n",
    "        left_child_1.parent = node_2\n",
    "        node_1.left_child = left_child_2  # None\n",
    "        node_1.right_child = right_child_2\n",
    "        if right_child_2:\n",
    "            right_child_2.parent = node_1\n",
    "        if not (parent_2 == node_1):\n",
    "            node_2.right_child = right_child_1\n",
    "            right_child_1.parent = node_2\n",
    "\n",
    "            parent_2.left_child = node_1\n",
    "            node_1.parent = parent_2\n",
    "        else:\n",
    "            node_2.right_child = node_1\n",
    "            node_1.parent = node_2\n",
    "\n",
    "            # use for debug only and only with small trees\n",
    "\n",
    "    def out(self, start_node=None):\n",
    "        if start_node is None:\n",
    "            start_node = self.root\n",
    "\n",
    "        if start_node is None:\n",
    "            return None\n",
    "        else:\n",
    "            return start_node.out()\n",
    "\n",
    "\n",
    "    def find_closest_to_the_left_strict(self,node_tmp,new_node_find):\n",
    "        if not node_tmp:\n",
    "            return None\n",
    "        if node_tmp.key >= new_node_find:\n",
    "            left_node_result = self.find_closest_to_the_left_strict(node_tmp.left_child,new_node_find)\n",
    "            if left_node_result:\n",
    "                return left_node_result\n",
    "            else:\n",
    "                return None\n",
    "        else:\n",
    "            right_node_result = self.find_closest_to_the_left_strict(node_tmp.right_child,new_node_find)\n",
    "            if right_node_result:\n",
    "                return right_node_result\n",
    "            else:\n",
    "                return node_tmp\n",
    "\n",
    "    def find_closest_to_the_left_strict_value_only(self,value):\n",
    "        return self.find_closest_to_the_left_strict(self.root,NodeKey(value))\n",
    "\n",
    "    def find_closest_to_the_right_strict(self,node_tmp,new_node_find):\n",
    "        if not node_tmp:\n",
    "            return None\n",
    "        if node_tmp.key > new_node_find:\n",
    "            left_node_result = self.find_closest_to_the_right_strict(node_tmp.left_child,new_node_find)\n",
    "            if left_node_result:\n",
    "                return left_node_result\n",
    "            else:\n",
    "                return node_tmp\n",
    "        else:\n",
    "            right_node_result = self.find_closest_to_the_right_strict(node_tmp.right_child,new_node_find)\n",
    "            if right_node_result:\n",
    "                return right_node_result\n",
    "            else:\n",
    "                return None\n",
    "\n",
    "    def find_closest_to_the_right_strict_value_only(self,value):\n",
    "        return self.find_closest_to_the_right_strict(self.root,NodeKey(value))\n",
    "\n",
    "\n",
    "\n",
    "\n"
   ]
  },
  {
   "cell_type": "markdown",
   "metadata": {},
   "source": [
    "# 1"
   ]
  },
  {
   "cell_type": "code",
   "execution_count": null,
   "metadata": {},
   "outputs": [],
   "source": []
  },
  {
   "cell_type": "code",
   "execution_count": 587,
   "metadata": {},
   "outputs": [],
   "source": [
    "btree = BinaryTree()"
   ]
  },
  {
   "cell_type": "code",
   "execution_count": 588,
   "metadata": {},
   "outputs": [],
   "source": [
    "for i in range(1000):\n",
    "    rand_now = random.randint(0,100)\n",
    "\n",
    "    btree.insert(rand_now)\n",
    "btree.insert(11)"
   ]
  },
  {
   "cell_type": "code",
   "execution_count": 589,
   "metadata": {},
   "outputs": [
    {
     "name": "stdout",
     "output_type": "stream",
     "text": [
      "[0, 1, 2, 3, 4, 5, 6, 7, 8, 9, 10, 11, 12, 13, 14, 15, 16, 17, 18, 19, 20, 21, 22, 23, 24, 25, 26, 27, 28, 29, 30, 31, 32, 33, 34, 35, 36, 37, 38, 39, 40, 41, 42, 43, 44, 45, 46, 47, 48, 49, 50, 51, 52, 53, 54, 55, 56, 57, 58, 59, 60, 61, 62, 63, 64, 65, 66, 67, 68, 69, 70, 71, 72, 73, 74, 75, 76, 77, 78, 79, 80, 81, 82, 83, 84, 85, 86, 87, 88, 89, 90, 91, 92, 93, 94, 95, 96, 97, 98, 99, 100]\n"
     ]
    }
   ],
   "source": [
    "print btree.as_list(1)"
   ]
  },
  {
   "cell_type": "code",
   "execution_count": null,
   "metadata": {},
   "outputs": [],
   "source": []
  },
  {
   "cell_type": "code",
   "execution_count": 590,
   "metadata": {},
   "outputs": [
    {
     "data": {
      "text/plain": [
       "<__main__.Node instance at 0x7f678efbd098>"
      ]
     },
     "execution_count": 590,
     "metadata": {},
     "output_type": "execute_result"
    }
   ],
   "source": [
    "btree.find(11)"
   ]
  },
  {
   "cell_type": "code",
   "execution_count": 591,
   "metadata": {},
   "outputs": [],
   "source": [
    "btree.remove(11)"
   ]
  },
  {
   "cell_type": "code",
   "execution_count": 592,
   "metadata": {},
   "outputs": [],
   "source": [
    "btree.find(11)"
   ]
  },
  {
   "cell_type": "code",
   "execution_count": 593,
   "metadata": {},
   "outputs": [
    {
     "name": "stdout",
     "output_type": "stream",
     "text": [
      "[0, 1, 2, 3, 4, 5, 6, 7, 8, 9, 10, 12, 13, 14, 15, 16, 17, 18, 19, 20, 21, 22, 23, 24, 25, 26, 27, 28, 29, 30, 31, 32, 33, 34, 35, 36, 37, 38, 39, 40, 41, 42, 43, 44, 45, 46, 47, 48, 49, 50, 51, 52, 53, 54, 55, 56, 57, 58, 59, 60, 61, 62, 63, 64, 65, 66, 67, 68, 69, 70, 71, 72, 73, 74, 75, 76, 77, 78, 79, 80, 81, 82, 83, 84, 85, 86, 87, 88, 89, 90, 91, 92, 93, 94, 95, 96, 97, 98, 99, 100]\n"
     ]
    }
   ],
   "source": [
    "print btree.as_list(1)"
   ]
  },
  {
   "cell_type": "code",
   "execution_count": null,
   "metadata": {},
   "outputs": [],
   "source": []
  },
  {
   "cell_type": "code",
   "execution_count": 585,
   "metadata": {},
   "outputs": [],
   "source": [
    "sorted_btree_list = btree.as_list(1)"
   ]
  },
  {
   "cell_type": "code",
   "execution_count": 563,
   "metadata": {},
   "outputs": [],
   "source": [
    "root_node_now = btree.root"
   ]
  },
  {
   "cell_type": "code",
   "execution_count": 564,
   "metadata": {},
   "outputs": [],
   "source": [
    "new_node_find = NodeKey(14)"
   ]
  },
  {
   "cell_type": "code",
   "execution_count": 565,
   "metadata": {},
   "outputs": [],
   "source": [
    "node_tmp = root_node_now"
   ]
  },
  {
   "cell_type": "code",
   "execution_count": 566,
   "metadata": {},
   "outputs": [
    {
     "data": {
      "text/plain": [
       "9"
      ]
     },
     "execution_count": 566,
     "metadata": {},
     "output_type": "execute_result"
    }
   ],
   "source": [
    "btree.find_closest_to_the_left_strict_value_only(10).value"
   ]
  },
  {
   "cell_type": "code",
   "execution_count": 567,
   "metadata": {},
   "outputs": [
    {
     "data": {
      "text/plain": [
       "10"
      ]
     },
     "execution_count": 567,
     "metadata": {},
     "output_type": "execute_result"
    }
   ],
   "source": [
    "\n",
    "btree.find_closest_to_the_left_strict_value_only(10.1).value"
   ]
  },
  {
   "cell_type": "code",
   "execution_count": 568,
   "metadata": {},
   "outputs": [
    {
     "name": "stdout",
     "output_type": "stream",
     "text": [
      "[0, 1, 2, 3, 4, 5, 6, 7, 8, 9, 10, 12, 13, 14, 15, 16, 17, 18, 19, 20, 21, 22, 23, 24, 25, 26, 27, 28, 29, 30, 31, 32, 33, 34, 35, 36, 37, 38, 39, 40, 41, 42, 43, 44, 45, 46, 47, 48, 49, 50, 51, 52, 53, 54, 55, 56, 57, 58, 59, 60, 61, 62, 63, 64, 65, 66, 67, 68, 69, 70, 71, 72, 73, 74, 75, 76, 77, 78, 79, 80, 81, 82, 83, 84, 85, 86, 87, 88, 89, 90, 91, 92, 93, 94, 95, 96, 97, 98, 99, 100]\n"
     ]
    }
   ],
   "source": [
    "print btree.as_list(1)"
   ]
  },
  {
   "cell_type": "code",
   "execution_count": 569,
   "metadata": {},
   "outputs": [
    {
     "data": {
      "text/plain": [
       "12"
      ]
     },
     "execution_count": 569,
     "metadata": {},
     "output_type": "execute_result"
    }
   ],
   "source": [
    "btree.find_closest_to_the_right_strict_value_only(10.1).value"
   ]
  },
  {
   "cell_type": "code",
   "execution_count": 570,
   "metadata": {},
   "outputs": [
    {
     "data": {
      "text/plain": [
       "13"
      ]
     },
     "execution_count": 570,
     "metadata": {},
     "output_type": "execute_result"
    }
   ],
   "source": [
    "btree.find_closest_to_the_right_strict_value_only(12).value"
   ]
  },
  {
   "cell_type": "code",
   "execution_count": null,
   "metadata": {},
   "outputs": [],
   "source": []
  },
  {
   "cell_type": "code",
   "execution_count": 571,
   "metadata": {},
   "outputs": [],
   "source": [
    "def find_closest_to_the_left_strict(node_tmp,new_node_find):\n",
    "    if not node_tmp:\n",
    "        return None\n",
    "    if node_tmp.key >= new_node_find:\n",
    "        left_node_result = find_closest_to_the_left_strict(node_tmp.left_child,new_node_find)\n",
    "        if left_node_result:\n",
    "            return left_node_result\n",
    "        else:\n",
    "            return None                \n",
    "    else:\n",
    "        right_node_result = find_closest_to_the_left_strict(node_tmp.right_child,new_node_find)\n",
    "        if right_node_result:\n",
    "            return right_node_result\n",
    "        else:\n",
    "            return node_tmp"
   ]
  },
  {
   "cell_type": "code",
   "execution_count": 547,
   "metadata": {},
   "outputs": [],
   "source": [
    "def find_closest_to_the_right_strict(node_tmp,new_node_find):\n",
    "    if not node_tmp:\n",
    "        return None\n",
    "    if node_tmp.key > new_node_find:\n",
    "        left_node_result = find_closest_to_the_right_strict(node_tmp.left_child,new_node_find)\n",
    "        if left_node_result:\n",
    "            return left_node_result\n",
    "        else:\n",
    "            return node_tmp                \n",
    "    else:\n",
    "        right_node_result = find_closest_to_the_right_strict(node_tmp.right_child,new_node_find)\n",
    "        if right_node_result:\n",
    "            return right_node_result\n",
    "        else:\n",
    "            return None"
   ]
  },
  {
   "cell_type": "code",
   "execution_count": 548,
   "metadata": {},
   "outputs": [
    {
     "data": {
      "text/plain": [
       "59"
      ]
     },
     "execution_count": 548,
     "metadata": {},
     "output_type": "execute_result"
    }
   ],
   "source": [
    "result_59 = find_closest_to_the_right_strict(btree.root,NodeKey(58.1))\n",
    "result_59.value"
   ]
  },
  {
   "cell_type": "code",
   "execution_count": 515,
   "metadata": {},
   "outputs": [
    {
     "data": {
      "text/plain": [
       "60"
      ]
     },
     "execution_count": 515,
     "metadata": {},
     "output_type": "execute_result"
    }
   ],
   "source": [
    "result_60 = find_closest_to_the_right_strict(btree.root,NodeKey(59))\n",
    "result_60.value"
   ]
  },
  {
   "cell_type": "code",
   "execution_count": 519,
   "metadata": {},
   "outputs": [
    {
     "data": {
      "text/plain": [
       "78"
      ]
     },
     "execution_count": 519,
     "metadata": {},
     "output_type": "execute_result"
    }
   ],
   "source": [
    "result_60 = find_closest_to_the_right_strict(btree.root,NodeKey(77))\n",
    "result_60.value"
   ]
  },
  {
   "cell_type": "code",
   "execution_count": null,
   "metadata": {},
   "outputs": [],
   "source": []
  },
  {
   "cell_type": "code",
   "execution_count": null,
   "metadata": {},
   "outputs": [],
   "source": []
  },
  {
   "cell_type": "code",
   "execution_count": 516,
   "metadata": {},
   "outputs": [
    {
     "data": {
      "text/plain": [
       "58"
      ]
     },
     "execution_count": 516,
     "metadata": {},
     "output_type": "execute_result"
    }
   ],
   "source": [
    "result_58 = find_closest_to_the_left_strict(btree.root,NodeKey(58.1))\n",
    "result_58.value"
   ]
  },
  {
   "cell_type": "code",
   "execution_count": 517,
   "metadata": {},
   "outputs": [
    {
     "data": {
      "text/plain": [
       "9"
      ]
     },
     "execution_count": 517,
     "metadata": {},
     "output_type": "execute_result"
    }
   ],
   "source": [
    "result_58 = find_closest_to_the_left_strict(btree.root,NodeKey(9.1))\n",
    "result_58.value"
   ]
  },
  {
   "cell_type": "code",
   "execution_count": 518,
   "metadata": {},
   "outputs": [
    {
     "data": {
      "text/plain": [
       "8"
      ]
     },
     "execution_count": 518,
     "metadata": {},
     "output_type": "execute_result"
    }
   ],
   "source": [
    "result_58 = find_closest_to_the_left_strict(btree.root,NodeKey(9))\n",
    "result_58.value"
   ]
  },
  {
   "cell_type": "code",
   "execution_count": null,
   "metadata": {},
   "outputs": [],
   "source": []
  },
  {
   "cell_type": "markdown",
   "metadata": {},
   "source": [
    "# 2"
   ]
  },
  {
   "cell_type": "code",
   "execution_count": null,
   "metadata": {},
   "outputs": [],
   "source": []
  },
  {
   "cell_type": "code",
   "execution_count": null,
   "metadata": {},
   "outputs": [],
   "source": []
  },
  {
   "cell_type": "code",
   "execution_count": null,
   "metadata": {},
   "outputs": [],
   "source": []
  },
  {
   "cell_type": "code",
   "execution_count": null,
   "metadata": {},
   "outputs": [],
   "source": []
  },
  {
   "cell_type": "code",
   "execution_count": null,
   "metadata": {},
   "outputs": [],
   "source": []
  },
  {
   "cell_type": "code",
   "execution_count": null,
   "metadata": {},
   "outputs": [],
   "source": []
  },
  {
   "cell_type": "code",
   "execution_count": null,
   "metadata": {},
   "outputs": [],
   "source": []
  }
 ],
 "metadata": {
  "kernelspec": {
   "display_name": "Python 2",
   "language": "python",
   "name": "python2"
  },
  "language_info": {
   "codemirror_mode": {
    "name": "ipython",
    "version": 2
   },
   "file_extension": ".py",
   "mimetype": "text/x-python",
   "name": "python",
   "nbconvert_exporter": "python",
   "pygments_lexer": "ipython2",
   "version": "2.7.15"
  }
 },
 "nbformat": 4,
 "nbformat_minor": 2
}
