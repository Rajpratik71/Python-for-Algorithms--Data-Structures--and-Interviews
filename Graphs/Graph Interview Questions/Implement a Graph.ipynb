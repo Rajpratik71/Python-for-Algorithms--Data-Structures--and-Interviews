{
 "cells": [
  {
   "cell_type": "markdown",
   "metadata": {},
   "source": [
    "# Implement a Graph Class!\n",
    "\n",
    "That's it! \n",
    "\n",
    "Best of luck and reference the video lecture for any questions!\n",
    "\n",
    "You have to fully worked out implementations in the lectures, so make sure to refer to them!"
   ]
  },
  {
   "cell_type": "markdown",
   "metadata": {},
   "source": [
    "# Good Luck!"
   ]
  },
  {
   "cell_type": "code",
   "execution_count": 1,
   "metadata": {},
   "outputs": [],
   "source": [
    "from enum import Enum\n",
    "from collections import OrderedDict"
   ]
  },
  {
   "cell_type": "code",
   "execution_count": 15,
   "metadata": {},
   "outputs": [],
   "source": [
    "class State(Enum):\n",
    "    unvisited = 0\n",
    "    visited = 1\n",
    "    visiting = 2"
   ]
  },
  {
   "cell_type": "code",
   "execution_count": 29,
   "metadata": {},
   "outputs": [],
   "source": [
    "class Node():\n",
    "    def __init__(self, num):\n",
    "        self.num = num\n",
    "        self.state = State.unvisited\n",
    "        self.adj = OrderedDict() # key = adj node num, val = link weight\n",
    "    def __str__(self):\n",
    "        return str(self.num)"
   ]
  },
  {
   "cell_type": "code",
   "execution_count": 30,
   "metadata": {},
   "outputs": [],
   "source": [
    "class Graph():  \n",
    "    def __init__(self):\n",
    "        self.nodes = OrderedDict()\n",
    "    \n",
    "    def add_node(self, num):\n",
    "        self.nodes[num] = Node(num)\n",
    "    \n",
    "    def add_edge(self, source, dest, weight=0):\n",
    "        if source not in self.nodes:\n",
    "            self.add_node(source)\n",
    "        if dest not in self.nodes:\n",
    "            self.add_node(dest)\n",
    "        self.nodes[source].adj[dest] = weight"
   ]
  },
  {
   "cell_type": "code",
   "execution_count": 34,
   "metadata": {},
   "outputs": [
    {
     "name": "stdout",
     "output_type": "stream",
     "text": [
      "0\n",
      "OrderedDict([(1, 5), (2, 3)])\n",
      "1\n",
      "OrderedDict()\n",
      "2\n",
      "OrderedDict()\n"
     ]
    }
   ],
   "source": [
    "g = Graph()\n",
    "g.add_edge(0, 1, 5)\n",
    "g.add_edge(0, 2, 3)\n",
    "for node in g.nodes:\n",
    "    print(g.nodes[node])\n",
    "    print(g.nodes[node].adj)"
   ]
  },
  {
   "cell_type": "code",
   "execution_count": null,
   "metadata": {},
   "outputs": [],
   "source": []
  },
  {
   "cell_type": "code",
   "execution_count": null,
   "metadata": {},
   "outputs": [],
   "source": []
  }
 ],
 "metadata": {
  "kernelspec": {
   "display_name": "Python 3",
   "language": "python",
   "name": "python3"
  },
  "language_info": {
   "codemirror_mode": {
    "name": "ipython",
    "version": 3
   },
   "file_extension": ".py",
   "mimetype": "text/x-python",
   "name": "python",
   "nbconvert_exporter": "python",
   "pygments_lexer": "ipython3",
   "version": "3.6.3"
  }
 },
 "nbformat": 4,
 "nbformat_minor": 1
}
