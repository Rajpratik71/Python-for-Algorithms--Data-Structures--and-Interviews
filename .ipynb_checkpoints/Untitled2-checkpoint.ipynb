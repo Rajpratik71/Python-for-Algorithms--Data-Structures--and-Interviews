{
 "cells": [
  {
   "cell_type": "markdown",
   "metadata": {
    "heading_collapsed": true
   },
   "source": [
    "# 1"
   ]
  },
  {
   "cell_type": "code",
   "execution_count": 166,
   "metadata": {
    "hidden": true
   },
   "outputs": [],
   "source": [
    "# -*- coding: utf-8 -*-\n",
    "##  Implementation of AVL tree\n",
    "#\n",
    "#   Author: Tim Rijavec\n",
    "#           tim@coder.si\n",
    "#           http://coder.si\n",
    "\n",
    "class avlnode(object):\n",
    "    \"\"\"\n",
    "    A node in an avl tree.\n",
    "    \"\"\"\n",
    "\n",
    "    def __init__(self, key):\n",
    "        \"Construct.\"\n",
    "\n",
    "        # The node's key\n",
    "        self.key = key\n",
    "        # The node's left child\n",
    "        self.left = None\n",
    "        # The node's right child\n",
    "        self.right = None\n",
    "\n",
    "    def __str__(self):\n",
    "        \"String representation.\"\n",
    "        return str(self.key)\n",
    "\n",
    "    def __repr__(self):\n",
    "        \"String representation.\"\n",
    "        return str(self.key)\n",
    "\n",
    "class avltree(object):\n",
    "    \"\"\"\n",
    "    An avl tree.\n",
    "    \"\"\"\n",
    "\n",
    "    def __init__(self):\n",
    "        \"Construct.\"\n",
    "\n",
    "        # Root node of the tree.\n",
    "        self.node = None\n",
    "        # Height of the tree.\n",
    "        self.height = -1\n",
    "        # Balance factor of the tree.\n",
    "        self.balance = 0\n",
    "\n",
    "    def insert(self, key):\n",
    "        \"\"\"\n",
    "        Insert new key into node\n",
    "        \"\"\"\n",
    "        # Create new node\n",
    "\n",
    "\n",
    "        # Initial tree\n",
    "        if not self.node:\n",
    "            n = avlnode(key)\n",
    "            self.node = n\n",
    "            self.node.left = avltree()\n",
    "            self.node.right = avltree()\n",
    "        # Insert key to the left subtree\n",
    "        elif key < self.node.key:\n",
    "            self.node.left.insert(key)\n",
    "        # Insert key to the right subtree\n",
    "        elif key > self.node.key:\n",
    "            self.node.right.insert(key)\n",
    "\n",
    "        # Rebalance tree if needed\n",
    "        self.rebalance()\n",
    "\n",
    "    def rebalance(self):\n",
    "        \"\"\"\n",
    "        Rebalance tree. After inserting or deleting a node,\n",
    "        it is necessary to check each of the node's ancestors for consistency with the rules of AVL\n",
    "        \"\"\"\n",
    "\n",
    "        # Check if we need to rebalance the tree\n",
    "        #   update height\n",
    "        #   balance tree\n",
    "        self.update_heights(recursive=False)\n",
    "        self.update_balances(False)\n",
    "\n",
    "        # For each node checked,\n",
    "        #   if the balance factor remains −1, 0, or +1 then no rotations are necessary.\n",
    "        while self.balance < -1 or self.balance > 1:\n",
    "            # Left subtree is larger than right subtree\n",
    "            if self.balance > 1:\n",
    "\n",
    "                # Left Right Case -> rotate y,z to the left\n",
    "                if self.node.left.balance < 0:\n",
    "                    #     x               x\n",
    "                    #    / \\             / \\\n",
    "                    #   y   D           z   D\n",
    "                    #  / \\        ->   / \\\n",
    "                    # A   z           y   C\n",
    "                    #    / \\         / \\\n",
    "                    #   B   C       A   B\n",
    "                    self.node.left.rotate_left()\n",
    "                    self.update_heights()\n",
    "                    self.update_balances()\n",
    "\n",
    "                # Left Left Case -> rotate z,x to the right\n",
    "                #       x                 z\n",
    "                #      / \\              /   \\\n",
    "                #     z   D            y     x\n",
    "                #    / \\         ->   / \\   / \\\n",
    "                #   y   C            A   B C   D\n",
    "                #  / \\\n",
    "                # A   B\n",
    "                self.rotate_right()\n",
    "                self.update_heights()\n",
    "                self.update_balances()\n",
    "\n",
    "            # Right subtree is larger than left subtree\n",
    "            if self.balance < -1:\n",
    "\n",
    "                # Right Left Case -> rotate x,z to the right\n",
    "                if self.node.right.balance > 0:\n",
    "                    #     y               y\n",
    "                    #    / \\             / \\\n",
    "                    #   A   x           A   z\n",
    "                    #      / \\    ->       / \\\n",
    "                    #     z   D           B   x\n",
    "                    #    / \\                 / \\\n",
    "                    #   B   C               C   D\n",
    "                    self.node.right.rotate_right() # we're in case III\n",
    "                    self.update_heights()\n",
    "                    self.update_balances()\n",
    "\n",
    "                # Right Right Case -> rotate y,x to the left\n",
    "                #       y                 z\n",
    "                #      / \\              /   \\\n",
    "                #     A   z            y     x\n",
    "                #        / \\     ->   / \\   / \\\n",
    "                #       B   x        A   B C   D\n",
    "                #          / \\\n",
    "                #         C   D\n",
    "                self.rotate_left()\n",
    "                self.update_heights()\n",
    "                self.update_balances()\n",
    "\n",
    "    def update_heights(self, recursive=True):\n",
    "        \"\"\"\n",
    "        Update tree height\n",
    "\n",
    "        Tree height is max height of either left or right subtrees +1 for root of the tree\n",
    "        \"\"\"\n",
    "        if self.node:\n",
    "            if recursive:\n",
    "                if self.node.left:\n",
    "                    self.node.left.update_heights()\n",
    "                if self.node.right:\n",
    "                    self.node.right.update_heights()\n",
    "\n",
    "            self.height = 1 + max(self.node.left.height, self.node.right.height)\n",
    "        else:\n",
    "            self.height = -1\n",
    "\n",
    "    def update_balances(self, recursive=True):\n",
    "        \"\"\"\n",
    "        Calculate tree balance factor\n",
    "\n",
    "        The balance factor is calculated as follows:\n",
    "            balance = height(left subtree) - height(right subtree).\n",
    "        \"\"\"\n",
    "        if self.node:\n",
    "            if recursive:\n",
    "                if self.node.left:\n",
    "                    self.node.left.update_balances()\n",
    "                if self.node.right:\n",
    "                    self.node.right.update_balances()\n",
    "\n",
    "            self.balance = self.node.left.height - self.node.right.height\n",
    "        else:\n",
    "            self.balance = 0\n",
    "\n",
    "\n",
    "    def rotate_right(self):\n",
    "        \"\"\"\n",
    "        Right rotation\n",
    "            set self as the right subtree of left subree\n",
    "        \"\"\"\n",
    "        new_root = self.node.left.node\n",
    "        new_left_sub = new_root.right.node\n",
    "        old_root = self.node\n",
    "\n",
    "        self.node = new_root\n",
    "        old_root.left.node = new_left_sub\n",
    "        new_root.right.node = old_root\n",
    "\n",
    "    def rotate_left(self):\n",
    "        \"\"\"\n",
    "        Left rotation\n",
    "            set self as the left subtree of right subree\n",
    "        \"\"\"\n",
    "        new_root = self.node.right.node\n",
    "        new_left_sub = new_root.left.node\n",
    "        old_root = self.node\n",
    "\n",
    "        self.node = new_root\n",
    "        old_root.right.node = new_left_sub\n",
    "        new_root.left.node = old_root\n",
    "\n",
    "    def delete(self, key):\n",
    "        \"\"\"\n",
    "        Delete key from the tree\n",
    "\n",
    "        Let node X be the node with the value we need to delete,\n",
    "        and let node Y be a node in the tree we need to find to take node X's place,\n",
    "        and let node Z be the actual node we take out of the tree.\n",
    "\n",
    "        Steps to consider when deleting a node in an AVL tree are the following:\n",
    "\n",
    "            * If node X is a leaf or has only one child, skip to step 5. (node Z will be node X)\n",
    "                * Otherwise, determine node Y by finding the largest node in node X's left sub tree\n",
    "                    (in-order predecessor) or the smallest in its right sub tree (in-order successor).\n",
    "                * Replace node X with node Y (remember, tree structure doesn't change here, only the values).\n",
    "                    In this step, node X is essentially deleted when its internal values were overwritten with node Y's.\n",
    "                * Choose node Z to be the old node Y.\n",
    "            * Attach node Z's subtree to its parent (if it has a subtree). If node Z's parent is null,\n",
    "                update root. (node Z is currently root)\n",
    "            * Delete node Z.\n",
    "            * Retrace the path back up the tree (starting with node Z's parent) to the root,\n",
    "                adjusting the balance factors as needed.\n",
    "        \"\"\"\n",
    "        if self.node != None:\n",
    "            if self.node.key == key:\n",
    "                # Key found in leaf node, just erase it\n",
    "                if not self.node.left.node and not self.node.right.node:\n",
    "                    self.node = None\n",
    "                # Node has only one subtree (right), replace root with that one\n",
    "                elif not self.node.left.node:\n",
    "                    self.node = self.node.right.node\n",
    "                # Node has only one subtree (left), replace root with that one\n",
    "                elif not self.node.right.node:\n",
    "                    self.node = self.node.left.node\n",
    "                else:\n",
    "                    # Find  successor as smallest node in right subtree or\n",
    "                    #       predecessor as largest node in left subtree\n",
    "                    successor = self.node.right.node\n",
    "                    while successor and successor.left.node:\n",
    "                        successor = successor.left.node\n",
    "\n",
    "                    if successor:\n",
    "                        self.node.key = successor.key\n",
    "\n",
    "                        # Delete successor from the replaced node right subree\n",
    "                        self.node.right.delete(successor.key)\n",
    "\n",
    "            elif key < self.node.key:\n",
    "                self.node.left.delete(key)\n",
    "\n",
    "            elif key > self.node.key:\n",
    "                self.node.right.delete(key)\n",
    "\n",
    "            # Rebalance tree\n",
    "            self.rebalance()\n",
    "\n",
    "    def inorder_traverse(self):\n",
    "        \"\"\"\n",
    "        Inorder traversal of the tree\n",
    "            Left subree + root + Right subtree\n",
    "        \"\"\"\n",
    "        result = []\n",
    "\n",
    "        if not self.node:\n",
    "            return result\n",
    "\n",
    "        result.extend(self.node.left.inorder_traverse())\n",
    "        result.append(self.node.key)\n",
    "        result.extend(self.node.right.inorder_traverse())\n",
    "\n",
    "        return result\n",
    "\n",
    "    def display(self, node=None, level=0):\n",
    "        if not node:\n",
    "            node = self.node\n",
    "\n",
    "        if node.right.node:\n",
    "            self.display(node.right.node, level + 1)\n",
    "            print ('\\t' * level), ('    /')\n",
    "\n",
    "        print ('\\t' * level), node\n",
    "\n",
    "        if node.left.node:\n",
    "            print ('\\t' * level), ('    \\\\')\n",
    "            self.display(node.left.node, level + 1)\n",
    "\n",
    "\n",
    "    def find_key(self,key,symbol = \"==\"):\n",
    "        \"\"\"we are saying node.key symbol(==,>=) key \"\"\"\n",
    "        if symbol in [\"==\"]:\n",
    "            if not self.node:\n",
    "                node_to_return = None\n",
    "            elif self.node.key == key:\n",
    "                node_to_return =  self.node\n",
    "            elif self.node.key < key:\n",
    "                node_to_return = self.node.right.find_key(key,symbol)\n",
    "            elif self.node.key > key:\n",
    "                node_to_return = self.node.left.find_key(key,symbol)\n",
    "\n",
    "            return node_to_return\n",
    "\n",
    "\n",
    "        if symbol in [\"<=\"]:\n",
    "            if not self.node:\n",
    "                node_to_return = None\n",
    "            elif self.node.key == key:\n",
    "                node_to_return =  self.node\n",
    "            elif self.node.key < key:\n",
    "                node_to_return = self.node.right.find_key(key,symbol)\n",
    "                if not node_to_return:\n",
    "                    node_to_return = self.node\n",
    "            elif self.node.key > key:\n",
    "                node_to_return = self.node.left.find_key(key,symbol)\n",
    "            return node_to_return\n",
    "\n",
    "        if symbol in [\"<\"]:\n",
    "            if not self.node:\n",
    "                node_to_return = None\n",
    "            # elif self.node.key == key:\n",
    "            #     node_to_return =  self.node\n",
    "            elif self.node.key < key:\n",
    "                node_to_return = self.node.right.find_key(key,symbol)\n",
    "                if not node_to_return:\n",
    "                    node_to_return = self.node\n",
    "            elif self.node.key >= key:\n",
    "                node_to_return = self.node.left.find_key(key,symbol)\n",
    "\n",
    "            return node_to_return\n",
    "\n",
    "\n",
    "        if symbol in [\">=\"]:\n",
    "            if not self.node:\n",
    "                node_to_return = None\n",
    "            elif self.node.key == key:\n",
    "                node_to_return =  self.node\n",
    "            elif self.node.key < key:\n",
    "                node_to_return = self.node.right.find_key(key,symbol)\n",
    "            elif self.node.key > key:\n",
    "                node_to_return = self.node.left.find_key(key,symbol)\n",
    "                if not node_to_return:\n",
    "                    node_to_return = self.node\n",
    "            return node_to_return\n",
    "\n",
    "        if symbol in [\">\"]:\n",
    "            if not self.node:\n",
    "                node_to_return = None\n",
    "            # elif self.node.key == key:\n",
    "            #     node_to_return =  self.node\n",
    "            elif self.node.key <= key:\n",
    "                node_to_return = self.node.right.find_key(key,symbol)\n",
    "            elif self.node.key > key:\n",
    "                node_to_return = self.node.left.find_key(key,symbol)\n",
    "                if not node_to_return:\n",
    "                    node_to_return = self.node\n",
    "            return node_to_return\n"
   ]
  },
  {
   "cell_type": "markdown",
   "metadata": {},
   "source": [
    "# 2"
   ]
  },
  {
   "cell_type": "code",
   "execution_count": 188,
   "metadata": {},
   "outputs": [],
   "source": [
    "tree = avltree()\n",
    "data = range(20)\n",
    "\n",
    "from random import randrange\n",
    "for key in data:  \n",
    "    tree.insert(key)\n",
    "\n",
    "for key in [4,3,68,69]:\n",
    "    tree.delete(key)\n",
    "\n",
    "# print tree.inorder_traverse()\n",
    "# tree.display()\n"
   ]
  },
  {
   "cell_type": "code",
   "execution_count": 189,
   "metadata": {},
   "outputs": [
    {
     "data": {
      "text/plain": [
       "[0, 1, 2, 5, 6, 7, 8, 9, 10, 11, 12, 13, 14, 15, 16, 17, 18, 19]"
      ]
     },
     "execution_count": 189,
     "metadata": {},
     "output_type": "execute_result"
    }
   ],
   "source": [
    "tree.inorder_traverse()"
   ]
  },
  {
   "cell_type": "code",
   "execution_count": 190,
   "metadata": {},
   "outputs": [],
   "source": [
    "node_got = tree.find_key(9)"
   ]
  },
  {
   "cell_type": "code",
   "execution_count": 191,
   "metadata": {},
   "outputs": [
    {
     "data": {
      "text/plain": [
       "9"
      ]
     },
     "execution_count": 191,
     "metadata": {},
     "output_type": "execute_result"
    }
   ],
   "source": [
    "node_got.key"
   ]
  },
  {
   "cell_type": "code",
   "execution_count": 192,
   "metadata": {},
   "outputs": [],
   "source": [
    "node_got = tree.delete(7)"
   ]
  },
  {
   "cell_type": "code",
   "execution_count": 193,
   "metadata": {},
   "outputs": [
    {
     "data": {
      "text/plain": [
       "[0, 1, 2, 5, 6, 8, 9, 10, 11, 12, 13, 14, 15, 16, 17, 18, 19]"
      ]
     },
     "execution_count": 193,
     "metadata": {},
     "output_type": "execute_result"
    }
   ],
   "source": [
    "tree.inorder_traverse()"
   ]
  },
  {
   "cell_type": "code",
   "execution_count": 194,
   "metadata": {},
   "outputs": [],
   "source": [
    "node_got = tree.find_key(7)"
   ]
  },
  {
   "cell_type": "code",
   "execution_count": 195,
   "metadata": {},
   "outputs": [
    {
     "ename": "AttributeError",
     "evalue": "'NoneType' object has no attribute 'key'",
     "output_type": "error",
     "traceback": [
      "\u001b[0;31m---------------------------------------------------------------------------\u001b[0m",
      "\u001b[0;31mAttributeError\u001b[0m                            Traceback (most recent call last)",
      "\u001b[0;32m<ipython-input-195-d41fa2a8f639>\u001b[0m in \u001b[0;36m<module>\u001b[0;34m()\u001b[0m\n\u001b[0;32m----> 1\u001b[0;31m \u001b[0mnode_got\u001b[0m\u001b[0;34m.\u001b[0m\u001b[0mkey\u001b[0m\u001b[0;34m\u001b[0m\u001b[0m\n\u001b[0m",
      "\u001b[0;31mAttributeError\u001b[0m: 'NoneType' object has no attribute 'key'"
     ]
    }
   ],
   "source": [
    "node_got.key"
   ]
  },
  {
   "cell_type": "code",
   "execution_count": 196,
   "metadata": {},
   "outputs": [
    {
     "data": {
      "text/plain": [
       "[0, 1, 2, 5, 6, 8, 9, 10, 11, 12, 13, 14, 15, 16, 17, 18, 19]"
      ]
     },
     "execution_count": 196,
     "metadata": {},
     "output_type": "execute_result"
    }
   ],
   "source": [
    "tree.inorder_traverse()"
   ]
  },
  {
   "cell_type": "code",
   "execution_count": 197,
   "metadata": {},
   "outputs": [],
   "source": [
    "node_got = tree.find_key(12,\"<=\")"
   ]
  },
  {
   "cell_type": "code",
   "execution_count": 198,
   "metadata": {},
   "outputs": [
    {
     "data": {
      "text/plain": [
       "12"
      ]
     },
     "execution_count": 198,
     "metadata": {},
     "output_type": "execute_result"
    }
   ],
   "source": [
    "node_got.key"
   ]
  },
  {
   "cell_type": "code",
   "execution_count": 199,
   "metadata": {},
   "outputs": [],
   "source": [
    "node_got = tree.find_key(10.1,\"<=\")"
   ]
  },
  {
   "cell_type": "code",
   "execution_count": 200,
   "metadata": {},
   "outputs": [
    {
     "data": {
      "text/plain": [
       "10"
      ]
     },
     "execution_count": 200,
     "metadata": {},
     "output_type": "execute_result"
    }
   ],
   "source": [
    "node_got.key"
   ]
  },
  {
   "cell_type": "code",
   "execution_count": 201,
   "metadata": {},
   "outputs": [],
   "source": [
    "node_got = tree.find_key(12,\"<\")"
   ]
  },
  {
   "cell_type": "code",
   "execution_count": 202,
   "metadata": {},
   "outputs": [
    {
     "data": {
      "text/plain": [
       "11"
      ]
     },
     "execution_count": 202,
     "metadata": {},
     "output_type": "execute_result"
    }
   ],
   "source": [
    "node_got.key"
   ]
  },
  {
   "cell_type": "code",
   "execution_count": 203,
   "metadata": {},
   "outputs": [],
   "source": [
    "node_got = tree.find_key(11.2,\"<\")"
   ]
  },
  {
   "cell_type": "code",
   "execution_count": 204,
   "metadata": {},
   "outputs": [
    {
     "data": {
      "text/plain": [
       "11"
      ]
     },
     "execution_count": 204,
     "metadata": {},
     "output_type": "execute_result"
    }
   ],
   "source": [
    "node_got.key"
   ]
  },
  {
   "cell_type": "code",
   "execution_count": null,
   "metadata": {},
   "outputs": [],
   "source": []
  },
  {
   "cell_type": "code",
   "execution_count": 205,
   "metadata": {},
   "outputs": [],
   "source": [
    "node_got = tree.find_key(12,\">=\")"
   ]
  },
  {
   "cell_type": "code",
   "execution_count": 206,
   "metadata": {},
   "outputs": [
    {
     "data": {
      "text/plain": [
       "12"
      ]
     },
     "execution_count": 206,
     "metadata": {},
     "output_type": "execute_result"
    }
   ],
   "source": [
    "node_got.key"
   ]
  },
  {
   "cell_type": "code",
   "execution_count": 207,
   "metadata": {},
   "outputs": [],
   "source": [
    "node_got = tree.find_key(10.1,\">=\")"
   ]
  },
  {
   "cell_type": "code",
   "execution_count": 208,
   "metadata": {},
   "outputs": [
    {
     "data": {
      "text/plain": [
       "11"
      ]
     },
     "execution_count": 208,
     "metadata": {},
     "output_type": "execute_result"
    }
   ],
   "source": [
    "node_got.key"
   ]
  },
  {
   "cell_type": "code",
   "execution_count": 209,
   "metadata": {},
   "outputs": [],
   "source": [
    "node_got = tree.find_key(12,\">\")"
   ]
  },
  {
   "cell_type": "code",
   "execution_count": 210,
   "metadata": {},
   "outputs": [
    {
     "data": {
      "text/plain": [
       "13"
      ]
     },
     "execution_count": 210,
     "metadata": {},
     "output_type": "execute_result"
    }
   ],
   "source": [
    "node_got.key"
   ]
  },
  {
   "cell_type": "code",
   "execution_count": 211,
   "metadata": {},
   "outputs": [],
   "source": [
    "node_got = tree.find_key(10.1,\">\")"
   ]
  },
  {
   "cell_type": "code",
   "execution_count": 212,
   "metadata": {},
   "outputs": [
    {
     "data": {
      "text/plain": [
       "11"
      ]
     },
     "execution_count": 212,
     "metadata": {},
     "output_type": "execute_result"
    }
   ],
   "source": [
    "node_got.key"
   ]
  },
  {
   "cell_type": "code",
   "execution_count": 213,
   "metadata": {},
   "outputs": [],
   "source": [
    "tree.delete(11)"
   ]
  },
  {
   "cell_type": "code",
   "execution_count": 214,
   "metadata": {},
   "outputs": [
    {
     "data": {
      "text/plain": [
       "12"
      ]
     },
     "execution_count": 214,
     "metadata": {},
     "output_type": "execute_result"
    }
   ],
   "source": [
    "node_got = tree.find_key(10.1,\">\")\n",
    "\n",
    "node_got.key"
   ]
  },
  {
   "cell_type": "code",
   "execution_count": null,
   "metadata": {},
   "outputs": [],
   "source": []
  },
  {
   "cell_type": "code",
   "execution_count": null,
   "metadata": {},
   "outputs": [],
   "source": []
  },
  {
   "cell_type": "code",
   "execution_count": null,
   "metadata": {},
   "outputs": [],
   "source": []
  },
  {
   "cell_type": "code",
   "execution_count": null,
   "metadata": {},
   "outputs": [],
   "source": []
  },
  {
   "cell_type": "code",
   "execution_count": null,
   "metadata": {},
   "outputs": [],
   "source": []
  },
  {
   "cell_type": "code",
   "execution_count": null,
   "metadata": {},
   "outputs": [],
   "source": []
  },
  {
   "cell_type": "code",
   "execution_count": null,
   "metadata": {},
   "outputs": [],
   "source": []
  },
  {
   "cell_type": "code",
   "execution_count": null,
   "metadata": {},
   "outputs": [],
   "source": []
  },
  {
   "cell_type": "code",
   "execution_count": null,
   "metadata": {},
   "outputs": [],
   "source": []
  },
  {
   "cell_type": "code",
   "execution_count": null,
   "metadata": {},
   "outputs": [],
   "source": []
  },
  {
   "cell_type": "code",
   "execution_count": null,
   "metadata": {},
   "outputs": [],
   "source": []
  },
  {
   "cell_type": "code",
   "execution_count": null,
   "metadata": {},
   "outputs": [],
   "source": []
  },
  {
   "cell_type": "code",
   "execution_count": null,
   "metadata": {},
   "outputs": [],
   "source": []
  },
  {
   "cell_type": "code",
   "execution_count": null,
   "metadata": {},
   "outputs": [],
   "source": []
  },
  {
   "cell_type": "code",
   "execution_count": null,
   "metadata": {},
   "outputs": [],
   "source": []
  },
  {
   "cell_type": "code",
   "execution_count": null,
   "metadata": {},
   "outputs": [],
   "source": []
  },
  {
   "cell_type": "code",
   "execution_count": null,
   "metadata": {},
   "outputs": [],
   "source": []
  },
  {
   "cell_type": "code",
   "execution_count": 17,
   "metadata": {
    "scrolled": true
   },
   "outputs": [],
   "source": [
    "# tree.inorder_traverse()"
   ]
  },
  {
   "cell_type": "code",
   "execution_count": null,
   "metadata": {},
   "outputs": [],
   "source": []
  },
  {
   "cell_type": "code",
   "execution_count": null,
   "metadata": {},
   "outputs": [],
   "source": []
  },
  {
   "cell_type": "code",
   "execution_count": null,
   "metadata": {},
   "outputs": [],
   "source": []
  }
 ],
 "metadata": {
  "kernelspec": {
   "display_name": "Python 2",
   "language": "python",
   "name": "python2"
  },
  "language_info": {
   "codemirror_mode": {
    "name": "ipython",
    "version": 2
   },
   "file_extension": ".py",
   "mimetype": "text/x-python",
   "name": "python",
   "nbconvert_exporter": "python",
   "pygments_lexer": "ipython2",
   "version": "2.7.15"
  }
 },
 "nbformat": 4,
 "nbformat_minor": 2
}
