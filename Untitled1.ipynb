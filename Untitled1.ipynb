{
 "cells": [
  {
   "cell_type": "markdown",
   "metadata": {
    "heading_collapsed": true
   },
   "source": [
    "# import binary search tree dict"
   ]
  },
  {
   "cell_type": "code",
   "execution_count": 445,
   "metadata": {
    "hidden": true
   },
   "outputs": [],
   "source": [
    "def binary_search_left_on_sorted_array(array, target,cmp = None, mode= None):\n",
    "    # tell if we can find the target, if yes, return, True, and one element, otherwise\n",
    "    \"\"\"\n",
    "    \"\"\"\n",
    "    lower = 0\n",
    "    upper = len(array)\n",
    "    succeed = False\n",
    "\n",
    "    while lower < upper:\n",
    "        x = lower + (upper - lower) // 2\n",
    "        val = array[x]\n",
    "        if cmp is None:\n",
    "            if target == val:\n",
    "                if mode == None:\n",
    "                    succeed = True\n",
    "                    break\n",
    "            elif target > val:\n",
    "                if lower == x:\n",
    "\n",
    "                    break\n",
    "                lower = x\n",
    "            elif target < val:\n",
    "                upper = x\n",
    "        else:\n",
    "            if cmp(target,val) == 0:\n",
    "                succeed = True\n",
    "                break\n",
    "            elif cmp(target,val) == 1:\n",
    "                if lower == x:\n",
    "                    break\n",
    "                lower = x\n",
    "            elif cmp(target,val) == -1:\n",
    "                upper = x\n",
    "\n",
    "    if cmp is None:\n",
    "        lowest_larger_than_target = array[lower] > target\n",
    "    else:\n",
    "        if cmp(target, array[lower]) == -1:\n",
    "            lowest_larger_than_target = True\n",
    "\n",
    "    if succeed:\n",
    "        return succeed, x\n",
    "    elif not succeed and array[lower] > target:\n",
    "        return succeed, -1\n",
    "    else:\n",
    "        return succeed, lower\n",
    "\n",
    "def simple_insort(array,x,cmp=None,mode= None):\n",
    "    \"\"\"Insert item x in list a, and keep it sorted assuming a is sorted.\n",
    "    \"\"\"\n",
    "    found_element, idx_on_the_left =binary_search_left_on_sorted_array(array,x,cmp,mode)\n",
    "    where_to_insert = idx_on_the_left + 1\n",
    "    array.insert(where_to_insert, x)\n",
    "    return where_to_insert\n",
    "\n",
    "\n",
    "\n",
    "def bisect_right(a, x, lo=0, hi=None, cmp = None):\n",
    "    \"\"\"Return the index where to insert item x in list a, assuming a is sorted.\n",
    "        The return value i is such that all e in a[:i] have e <= x, and all e in\n",
    "        a[i:] have e > x.  So if x already appears in the list, a.insert(x) will\n",
    "        insert just after the rightmost x already there.\n",
    "        Optional args lo (default 0) and hi (default len(a)) bound the\n",
    "        slice of a to be searched.\n",
    "    \"\"\"\n",
    "\n",
    "    if lo < 0:\n",
    "        raise ValueError('lo must be non-negative')\n",
    "    if hi is None:\n",
    "        hi = len(a)\n",
    "    while lo < hi:\n",
    "        mid = (lo+hi)//2\n",
    "        if not cmp is None:\n",
    "            if cmp(x,a[mid])==-1: hi = mid\n",
    "            else: lo = mid+1\n",
    "        else:\n",
    "            if x < a[mid]: hi = mid\n",
    "            else: lo = mid+1\n",
    "\n",
    "    if not cmp is None:\n",
    "        if cmp(x,a[lo-1])==0:\n",
    "            matched = True\n",
    "        else:\n",
    "            matched = False\n",
    "    else:\n",
    "        if a[lo-1]== x:\n",
    "            matched = True\n",
    "        else:\n",
    "            matched = False\n",
    "\n",
    "    return lo, matched\n",
    "\n",
    "def bisect_left(a, x, lo=0, hi=None, cmp = None):\n",
    "    \"\"\"Return the index where to insert item x in list a, assuming a is sorted.\n",
    "    The return value i is such that all e in a[:i] have e < x, and all e in\n",
    "    a[i:] have e >= x.  So if x already appears in the list, a.insert(x) will\n",
    "    insert just before the leftmost x already there.\n",
    "    Optional args lo (default 0) and hi (default len(a)) bound the\n",
    "    slice of a to be searched.\n",
    "    \"\"\"\n",
    "\n",
    "    if lo < 0:\n",
    "        raise ValueError('lo must be non-negative')\n",
    "    if hi is None:\n",
    "        hi = len(a)\n",
    "\n",
    "    hi_record = hi\n",
    "    while lo < hi:\n",
    "        mid = (lo+hi)//2\n",
    "\n",
    "        if not cmp is None:\n",
    "            if a[mid] < x: lo = mid+1\n",
    "            else: hi = mid\n",
    "        else:\n",
    "            if a[mid] < x: lo = mid+1\n",
    "            else: hi = mid\n",
    "\n",
    "    if lo >= hi_record:\n",
    "        matched=False\n",
    "    else:\n",
    "        if not cmp is None:\n",
    "            if cmp(x,a[lo])==0:\n",
    "                matched = True\n",
    "            else:\n",
    "                matched = False\n",
    "        else:\n",
    "            if a[lo]== x:\n",
    "                matched = True\n",
    "            else:\n",
    "                matched = False\n",
    "\n",
    "\n",
    "\n",
    "    return lo, matched\n",
    "\n",
    "def insort_right(a, x, lo=0, hi=None,cmp = None):\n",
    "    \"\"\"Insert item x in list a, and keep it sorted assuming a is sorted.\n",
    "    If x is already in a, insert it to the right of the rightmost x.\n",
    "    Optional args lo (default 0) and hi (default len(a)) bound the\n",
    "    slice of a to be searched.\n",
    "    \"\"\"\n",
    "    lo, matched = bisect_right(a, x, lo, hi, cmp)\n",
    "    a.insert(lo, x)\n",
    "    return lo\n",
    "\n",
    "def insort_left(a, x, lo=0, hi=None,cmp = None):\n",
    "    \"\"\"Insert item x in list a, and keep it sorted assuming a is sorted.\n",
    "    If x is already in a, insert it to the left of the leftmost x.\n",
    "    Optional args lo (default 0) and hi (default len(a)) bound the\n",
    "    slice of a to be searched.\n",
    "    \"\"\"\n",
    "    lo, matched = bisect_left(a, x, lo, hi, cmp)\n",
    "    a.insert(lo, x)\n",
    "    return lo\n",
    "\n"
   ]
  },
  {
   "cell_type": "code",
   "execution_count": 447,
   "metadata": {
    "hidden": true
   },
   "outputs": [],
   "source": [
    "\n",
    "def bisect_right(a, x, lo=0, hi=None, cmp = None):\n",
    "    \"\"\"Return the index where to insert item x in list a, assuming a is sorted.\n",
    "        The return value i is such that all e in a[:i] have e <= x, and all e in\n",
    "        a[i:] have e > x.  So if x already appears in the list, a.insert(x) will\n",
    "        insert just after the rightmost x already there.\n",
    "        Optional args lo (default 0) and hi (default len(a)) bound the\n",
    "        slice of a to be searched.\n",
    "    \"\"\"\n",
    "\n",
    "    if lo < 0:\n",
    "        raise ValueError('lo must be non-negative')\n",
    "    if hi is None:\n",
    "        hi = len(a)\n",
    "    while lo < hi:\n",
    "        mid = (lo+hi)//2\n",
    "        if not cmp is None:\n",
    "            if cmp(x,a[mid])==-1: hi = mid\n",
    "            else: lo = mid+1\n",
    "        else:\n",
    "            if x < a[mid]: hi = mid\n",
    "            else: lo = mid+1\n",
    "\n",
    "    if not cmp is None:\n",
    "        if cmp(x,a[lo-1])==0:\n",
    "            matched = True\n",
    "        else:\n",
    "            matched = False\n",
    "    else:\n",
    "        if a[lo-1]== x:\n",
    "            matched = True\n",
    "        else:\n",
    "            matched = False\n",
    "\n",
    "    return lo, matched\n",
    "\n",
    "def bisect_left(a, x, lo=0, hi=None, cmp = None):\n",
    "    \"\"\"Return the index where to insert item x in list a, assuming a is sorted.\n",
    "    The return value i is such that all e in a[:i] have e < x, and all e in\n",
    "    a[i:] have e >= x.  So if x already appears in the list, a.insert(x) will\n",
    "    insert just before the leftmost x already there.\n",
    "    Optional args lo (default 0) and hi (default len(a)) bound the\n",
    "    slice of a to be searched.\n",
    "    \"\"\"\n",
    "\n",
    "    if lo < 0:\n",
    "        raise ValueError('lo must be non-negative')\n",
    "    if hi is None:\n",
    "        hi = len(a)\n",
    "\n",
    "    hi_record = hi\n",
    "    while lo < hi:\n",
    "        mid = (lo+hi)//2\n",
    "\n",
    "        if not cmp is None:\n",
    "            if a[mid] < x: lo = mid+1\n",
    "            else: hi = mid\n",
    "        else:\n",
    "            if a[mid] < x: lo = mid+1\n",
    "            else: hi = mid\n",
    "\n",
    "    if lo >= hi_record:\n",
    "        matched=False\n",
    "    else:\n",
    "        if not cmp is None:\n",
    "            if cmp(x,a[lo])==0:\n",
    "                matched = True\n",
    "            else:\n",
    "                matched = False\n",
    "        else:\n",
    "            if a[lo]== x:\n",
    "                matched = True\n",
    "            else:\n",
    "                matched = False\n",
    "\n",
    "\n",
    "\n",
    "    return lo, matched\n",
    "\n",
    "\n"
   ]
  },
  {
   "cell_type": "code",
   "execution_count": 69,
   "metadata": {
    "hidden": true
   },
   "outputs": [],
   "source": [
    "\n",
    "class NodeKey():\n",
    "    def __init__(self, value, name=None):\n",
    "        self.name = name\n",
    "        self.value = value\n",
    "\n",
    "    def __lt__(self, other):\n",
    "        return self.value < other.value or (self.value == other.value and self.name < other.name)\n",
    "\n",
    "    def __le__(self, other):\n",
    "        return self < other or self == other\n",
    "\n",
    "    def __eq__(self, other):\n",
    "        return self.value == other.value and self.name == other.name\n",
    "\n",
    "    def __ne__(self, other):\n",
    "        return self.value != other.value or self.name != other.name\n",
    "\n",
    "    def __gt__(self, other):\n",
    "        return self.value > other.value or (self.value == other.value and self.name > other.name)\n",
    "\n",
    "    def __ge__(self, other):\n",
    "        return self > other or self == other\n",
    "\n",
    "    def __str__(self):\n",
    "        if self.name is None:\n",
    "            return str(self.value)\n",
    "        else:\n",
    "            return str(self.value) + \",\" + str(self.name)\n",
    "\n",
    "\n",
    "class Node():\n",
    "    def __init__(self, value, name=None):\n",
    "        self.key = NodeKey(value, name)\n",
    "        self.value = value\n",
    "        self.parent = None\n",
    "        self.left_child = None\n",
    "        self.right_child = None\n",
    "        self.height = 0\n",
    "\n",
    "    def __str__(self):\n",
    "        return str(self.key)\n",
    "\n",
    "    def next(self):\n",
    "        \"\"\" Returns the next Node (next key value larger)\n",
    "        \"\"\"\n",
    "        # If has right child, select, then traverse left all the way down\n",
    "        if self.right_child is not None:\n",
    "            node = self.right_child\n",
    "            while node.left_child is not None:\n",
    "                node = node.left_child\n",
    "            return node\n",
    "\n",
    "        node = self\n",
    "        # Try to find an ancestor that is a left child, return parent of that\n",
    "        while node.parent is not None:\n",
    "            if node.parent.left_child == node:\n",
    "                return node.parent\n",
    "            node = node.parent\n",
    "\n",
    "        # Nothing greater than this\n",
    "        return None\n",
    "\n",
    "    def previous(self):\n",
    "        \"\"\" Returns the previous Node (next key value smaller)\n",
    "        \"\"\"\n",
    "        # If has left child, select, then traverse right all the way down\n",
    "        if self.left_child is not None:\n",
    "            node = self.left_child\n",
    "            while node.right_child is not None:\n",
    "                node = node.right_child\n",
    "            return node\n",
    "\n",
    "        node = self\n",
    "        # Try to find an ancestor that is a right child, return parent of that\n",
    "        while node.parent is not None:\n",
    "            if node.parent.right_child == node:\n",
    "                return node.parent\n",
    "            node = node.parent\n",
    "\n",
    "        #  Nothing smaller than this\n",
    "        return None\n",
    "\n",
    "    def is_leaf(self):\n",
    "        \"\"\" Return True if Leaf, False Otherwise\n",
    "        \"\"\"\n",
    "        return self.height == 0\n",
    "\n",
    "    def max_child_height(self):\n",
    "        \"\"\" Return Height Of Tallest Child or -1 if No Children\n",
    "        \"\"\"\n",
    "        if self.left_child and self.right_child:\n",
    "            # two children\n",
    "            return max(self.left_child.height, self.right_child.height)\n",
    "        elif self.left_child is not None and self.right_child is None:\n",
    "            # one child, on left\n",
    "            return self.left_child.height\n",
    "        elif self.left_child is None and self.right_child is not None:\n",
    "            # one child, on right\n",
    "            return self.right_child.height\n",
    "        else:\n",
    "            # no Children\n",
    "            return -1\n",
    "\n",
    "    def weigh(self):\n",
    "        \"\"\" Return How Left or Right Sided the Tree Is\n",
    "        Positive Number Means Left Side Heavy, Negative Number Means Right Side Heavy\n",
    "        \"\"\"\n",
    "        if self.left_child is None:\n",
    "            left_height = -1\n",
    "        else:\n",
    "            left_height = self.left_child.height\n",
    "\n",
    "        if self.right_child is None:\n",
    "            right_height = -1\n",
    "        else:\n",
    "            right_height = self.right_child.height\n",
    "\n",
    "        balance = left_height - right_height\n",
    "        return balance\n",
    "\n",
    "    def update_height(self):\n",
    "        \"\"\" Updates Height of This Node and All Ancestor Nodes, As Necessary\n",
    "        \"\"\"\n",
    "        # TODO: should stop iterating when reaches correct height\n",
    "        node = self\n",
    "        while node is not None:\n",
    "            node.height = node.max_child_height() + 1\n",
    "            node = node.parent\n",
    "\n",
    "    def root(self):\n",
    "        node = self\n",
    "        while node.parent is not None:\n",
    "            node = node.parent\n",
    "        return node\n",
    "\n",
    "    def balance(self, tree):\n",
    "        \"\"\" Balances node, sets new tree root if appropriate\n",
    "        Note: If balancing does occur, this node will move to a lower position on the tree\n",
    "        \"\"\"\n",
    "        while self.weigh() < -1 or self.weigh() > 1:\n",
    "            if self.weigh() < 0:\n",
    "                # right side heavy\n",
    "                if self.right_child.weigh() > 0:\n",
    "                    # right-side left-side heavy\n",
    "                    self.right_child.rotate_left()\n",
    "                # right-side right-side heavy\n",
    "                new_top = self.rotate_right()\n",
    "            else:\n",
    "                # left side heavy\n",
    "                if self.left_child.weigh() < 0:\n",
    "                    # left-side right-side heavy\n",
    "                    self.left_child.rotate_right()\n",
    "                # left-side left-side heavy\n",
    "                new_top = self.rotate_left()\n",
    "\n",
    "            if new_top.parent is None:\n",
    "                tree.root = new_top\n",
    "\n",
    "    def out(self):\n",
    "        \"\"\" Return String Representing Tree From Current Node Down\n",
    "        Only Works for Small Trees\n",
    "        \"\"\"\n",
    "        start_node = self\n",
    "        space_symbol = \"*\"\n",
    "        spaces_count = 250\n",
    "        out_string = \"\"\n",
    "        initial_spaces_string = space_symbol * spaces_count + \"\\n\"\n",
    "        if start_node is None:\n",
    "            return \"AVLTree is empty\"\n",
    "        else:\n",
    "            level = [start_node]\n",
    "            while len([i for i in level if (not i is None)]) > 0:\n",
    "                level_string = initial_spaces_string\n",
    "                for i in xrange(len(level)):\n",
    "                    j = (i + 1) * spaces_count / (len(level) + 1)\n",
    "                    level_string = level_string[:j] + (str(level[i]) if level[i] else space_symbol) + level_string[j + 1:]\n",
    "                level_next = []\n",
    "                for i in level:\n",
    "                    level_next += ([i.left_child, i.right_child] if i else [None, None])\n",
    "                level = level_next\n",
    "                out_string += level_string\n",
    "        return out_string\n",
    "\n",
    "    def rotate_right(self):\n",
    "        assert(self.right_child is not None)\n",
    "        to_promote = self.right_child\n",
    "        swapper = to_promote.left_child\n",
    "\n",
    "        # swap children\n",
    "        self.right_child = swapper\n",
    "        to_promote.left_child = self\n",
    "        new_top = self._swap_parents(to_promote, swapper)\n",
    "        if swapper is not None:\n",
    "            swapper.update_height()\n",
    "        self.update_height()\n",
    "        return new_top\n",
    "\n",
    "    def rotate_left(self):\n",
    "        assert(self.left_child is not None)\n",
    "        to_promote = self.left_child\n",
    "        swapper = to_promote.right_child\n",
    "\n",
    "        # swap children\n",
    "        self.left_child = swapper\n",
    "        to_promote.right_child = self\n",
    "        new_top = self._swap_parents(to_promote, swapper)\n",
    "        if swapper is not None:\n",
    "            swapper.update_height()\n",
    "        self.update_height()\n",
    "        return new_top\n",
    "\n",
    "    def _swap_parents(self, promote, swapper):\n",
    "        \"\"\" re-assign parents, returns new top\n",
    "        \"\"\"\n",
    "        promote.parent = self.parent\n",
    "        self.parent = promote\n",
    "        if swapper is not None:\n",
    "            swapper.parent = self\n",
    "\n",
    "        if promote.parent is not None:\n",
    "            if promote.parent.right_child == self:\n",
    "                promote.parent.right_child = promote\n",
    "            elif promote.parent.left_child == self:\n",
    "                promote.parent.left_child = promote\n",
    "        return promote\n",
    "\n",
    "\n",
    "class BinaryTree():\n",
    "    \"\"\" Binary Search Tree\n",
    "    Uses AVL Tree\n",
    "    \"\"\"\n",
    "    def __init__(self, *args):\n",
    "        self.root = None  # root Node\n",
    "        self.element_count = 0\n",
    "        if len(args) == 1:\n",
    "            for i in args[0]:\n",
    "                self.insert(i)\n",
    "\n",
    "    def __len__(self):\n",
    "        return self.element_count\n",
    "\n",
    "    def __str__(self):\n",
    "        return self.out()\n",
    "\n",
    "    def height(self):\n",
    "        \"\"\" Return Max Height Of Tree\n",
    "        \"\"\"\n",
    "        if self.root:\n",
    "            return self.root.height\n",
    "        else:\n",
    "            return 0\n",
    "\n",
    "    def balance(self):\n",
    "        \"\"\" Perform balancing Operation\n",
    "        \"\"\"\n",
    "        if self.root is not None:\n",
    "            self.root.balance(self)\n",
    "\n",
    "    def insert(self, value, name=None):\n",
    "        if self.root is None:\n",
    "            # If nothing in tree\n",
    "            self.root = Node(value, name)\n",
    "        else:\n",
    "            if self.find(value, name) is None:\n",
    "                # If key/name pair doesn't exist in tree\n",
    "                self.element_count += 1\n",
    "                self.add_as_child(self.root, Node(value, name))\n",
    "\n",
    "    def add_as_child(self, parent_node, child_node):\n",
    "        if child_node.key < parent_node.key:\n",
    "            # should go on left\n",
    "            if parent_node.left_child is None:\n",
    "                # can add to this node\n",
    "                parent_node.left_child = child_node\n",
    "                child_node.parent = parent_node\n",
    "                child_node.update_height()\n",
    "            else:\n",
    "                self.add_as_child(parent_node.left_child, child_node)\n",
    "        else:\n",
    "            # should go on right\n",
    "            if parent_node.right_child is None:\n",
    "                # can add to this node\n",
    "                parent_node.right_child = child_node\n",
    "                child_node.parent = parent_node\n",
    "                child_node.update_height()\n",
    "            else:\n",
    "                self.add_as_child(parent_node.right_child, child_node)\n",
    "\n",
    "        if parent_node.weigh() not in [-1, 0, 1]:\n",
    "            parent_node.balance(self)\n",
    "\n",
    "    def inorder_non_recursive(self):\n",
    "        node = self.root\n",
    "        retlst = []\n",
    "        while node.left_child:\n",
    "            node = node.left_child\n",
    "        while node:\n",
    "            if node.key.name is not None:\n",
    "                retlst.append([node.key.value, node.key.name])\n",
    "            else:\n",
    "                retlst.append(node.key.value)\n",
    "            if node.right_child:\n",
    "                node = node.right_child\n",
    "                while node.left_child:\n",
    "                    node = node.left_child\n",
    "            else:\n",
    "                while node.parent and (node == node.parent.right_child):\n",
    "                    node = node.parent\n",
    "                node = node.parent\n",
    "        return retlst\n",
    "\n",
    "    def preorder(self, node, retlst=None):\n",
    "        if retlst is None:\n",
    "            retlst = []\n",
    "        if node.key.name is not None:\n",
    "            retlst.append([node.key.value, node.key.name])\n",
    "        else:\n",
    "            retlst.append(node.key.value)\n",
    "        if node.left_child:\n",
    "            retlst = self.preorder(node.left_child, retlst)\n",
    "        if node.right_child:\n",
    "            retlst = self.preorder(node.right_child, retlst)\n",
    "        return retlst\n",
    "\n",
    "    def inorder(self, node, retlst=None):\n",
    "        if retlst is None:\n",
    "            retlst = []\n",
    "        if node.left_child:\n",
    "            retlst = self.inorder(node.left_child, retlst)\n",
    "        if node.key.name is not None:\n",
    "            retlst.append([node.key.value, node.key.name])\n",
    "        else:\n",
    "            retlst.append(node.key.value)\n",
    "        if node.right_child:\n",
    "            retlst = self.inorder(node.right_child, retlst)\n",
    "        return retlst\n",
    "\n",
    "    def postorder(self, node, retlst=None):\n",
    "        if retlst is None:\n",
    "            retlst = []\n",
    "        if node.left_child:\n",
    "            retlst = self.postorder(node.left_child, retlst)\n",
    "        if node.right_child:\n",
    "            retlst = self.postorder(node.right_child, retlst)\n",
    "        if node.key.name is not None:\n",
    "            retlst.append([node.key.value, node.key.name])\n",
    "        else:\n",
    "            retlst.append(node.key.value)\n",
    "        return retlst\n",
    "\n",
    "    def as_list(self, pre_in_post):\n",
    "        if not self.root:\n",
    "            return []\n",
    "        if pre_in_post == 0:\n",
    "            return self.preorder(self.root)\n",
    "        elif pre_in_post == 1:\n",
    "            return self.inorder(self.root)\n",
    "        elif pre_in_post == 2:\n",
    "            return self.postorder(self.root)\n",
    "        elif pre_in_post == 3:\n",
    "            return self.inorder_non_recursive()\n",
    "\n",
    "    def find(self, value, name=None):\n",
    "        return self.find_in_subtree(self.root, NodeKey(value, name))\n",
    "\n",
    "    def find_in_subtree(self, node, node_key):\n",
    "        if node is None:\n",
    "            return None  # key not found\n",
    "        if node_key < node.key:\n",
    "            return self.find_in_subtree(node.left_child, node_key)\n",
    "        elif node_key > node.key:\n",
    "            return self.find_in_subtree(node.right_child, node_key)\n",
    "        else:  # key is equal to node key\n",
    "            return node\n",
    "\n",
    "    def remove(self, key):\n",
    "        # first find\n",
    "        node = self.find(key)\n",
    "\n",
    "        if not node is None:\n",
    "            self.element_count -= 1\n",
    "\n",
    "            if node.is_leaf():\n",
    "                # The node is a leaf.  Remove it and return.\n",
    "                self.remove_leaf(node)\n",
    "            elif (node.left_child is not None and node.right_child is None) or (node.left_child is None and node.right_child is not None):\n",
    "                # The node has only 1 child. Make the pointer to this node point to the child of this node.\n",
    "                self.remove_branch(node)\n",
    "            else:\n",
    "                # The node has 2 children. Swap items with the successor (the smallest item in its right subtree) and\n",
    "                # delete the successor from the right subtree of the node.\n",
    "                assert node.left_child and node.right_child\n",
    "                self.swap_with_successor_and_remove(node)\n",
    "\n",
    "    def remove_leaf(self, node):\n",
    "        parent = node.parent\n",
    "        if parent:\n",
    "            if parent.left_child == node:\n",
    "                parent.left_child = None\n",
    "            else:\n",
    "                assert (parent.right_child == node)\n",
    "                parent.right_child = None\n",
    "            parent.update_height()\n",
    "        else:\n",
    "            self.root = None\n",
    "\n",
    "        # rebalance\n",
    "        node = parent\n",
    "        while node:\n",
    "            if not node.weigh() in [-1, 0, 1]:\n",
    "                node.balance(self)\n",
    "            node = node.parent\n",
    "\n",
    "    def remove_branch(self, node):\n",
    "        parent = node.parent\n",
    "        if parent:\n",
    "            if parent.left_child == node:\n",
    "                parent.left_child = node.right_child or node.left_child\n",
    "            else:\n",
    "                assert (parent.right_child == node)\n",
    "                parent.right_child = node.right_child or node.left_child\n",
    "\n",
    "            if node.left_child:\n",
    "                node.left_child.parent = parent\n",
    "            else:\n",
    "                assert node.right_child\n",
    "                node.right_child.parent = parent\n",
    "            parent.update_height()\n",
    "\n",
    "        # rebalance\n",
    "        node = parent\n",
    "        while node:\n",
    "            if not node.weigh() in [-1, 0, 1]:\n",
    "                node.balance(self)\n",
    "            node = node.parent\n",
    "\n",
    "    def swap_with_successor_and_remove(self, node):\n",
    "        successor = node.right_child\n",
    "        while successor.left_child:\n",
    "            successor = successor.left_child\n",
    "        self.swap_nodes(node, successor)\n",
    "        assert (node.left_child is None)\n",
    "        if node.height == 0:\n",
    "            self.remove_leaf(node)\n",
    "        else:\n",
    "            self.remove_branch(node)\n",
    "\n",
    "    def swap_nodes(self, node_1, node_2):\n",
    "        assert (node_1.height > node_2.height)\n",
    "        parent_1 = node_1.parent\n",
    "        left_child_1 = node_1.left_child\n",
    "        right_child_1 = node_1.right_child\n",
    "        parent_2 = node_2.parent\n",
    "        assert (not parent_2 is None)\n",
    "        assert (parent_2.left_child == node_2 or parent_2 == node_1)\n",
    "        left_child_2 = node_2.left_child\n",
    "        assert (left_child_2 is None)\n",
    "        right_child_2 = node_2.right_child\n",
    "\n",
    "        # swap heights\n",
    "        tmp = node_1.height\n",
    "        node_1.height = node_2.height\n",
    "        node_2.height = tmp\n",
    "\n",
    "        if parent_1:\n",
    "            if parent_1.left_child == node_1:\n",
    "                parent_1.left_child = node_2\n",
    "            else:\n",
    "                assert (parent_1.right_child == node_1)\n",
    "                parent_1.right_child = node_2\n",
    "            node_2.parent = parent_1\n",
    "        else:\n",
    "            self.root = node_2\n",
    "            node_2.parent = None\n",
    "\n",
    "        node_2.left_child = left_child_1\n",
    "        left_child_1.parent = node_2\n",
    "        node_1.left_child = left_child_2  # None\n",
    "        node_1.right_child = right_child_2\n",
    "        if right_child_2:\n",
    "            right_child_2.parent = node_1\n",
    "        if not (parent_2 == node_1):\n",
    "            node_2.right_child = right_child_1\n",
    "            right_child_1.parent = node_2\n",
    "\n",
    "            parent_2.left_child = node_1\n",
    "            node_1.parent = parent_2\n",
    "        else:\n",
    "            node_2.right_child = node_1\n",
    "            node_1.parent = node_2\n",
    "\n",
    "            # use for debug only and only with small trees\n",
    "\n",
    "    def out(self, start_node=None):\n",
    "        if start_node is None:\n",
    "            start_node = self.root\n",
    "\n",
    "        if start_node is None:\n",
    "            return None\n",
    "        else:\n",
    "            return start_node.out()\n",
    "\n",
    "\n",
    "    def find_closest_to_the_left_strict(self,node_tmp,new_node_find):\n",
    "        if not node_tmp:\n",
    "            return None\n",
    "        if node_tmp.key >= new_node_find:\n",
    "            left_node_result = self.find_closest_to_the_left_strict(node_tmp.left_child,new_node_find)\n",
    "            if left_node_result:\n",
    "                return left_node_result\n",
    "            else:\n",
    "                return None\n",
    "        else:\n",
    "            right_node_result = self.find_closest_to_the_left_strict(node_tmp.right_child,new_node_find)\n",
    "            if right_node_result:\n",
    "                return right_node_result\n",
    "            else:\n",
    "                return node_tmp\n",
    "\n",
    "    def find_closest_to_the_left_strict_value_only(self,value):\n",
    "        return self.find_closest_to_the_left_strict(self.root,NodeKey(value))\n",
    "\n",
    "    def find_closest_to_the_right_strict(self,node_tmp,new_node_find):\n",
    "        if not node_tmp:\n",
    "            return None\n",
    "        if node_tmp.key > new_node_find:\n",
    "            left_node_result = self.find_closest_to_the_right_strict(node_tmp.left_child,new_node_find)\n",
    "            if left_node_result:\n",
    "                return left_node_result\n",
    "            else:\n",
    "                return node_tmp\n",
    "        else:\n",
    "            right_node_result = self.find_closest_to_the_right_strict(node_tmp.right_child,new_node_find)\n",
    "            if right_node_result:\n",
    "                return right_node_result\n",
    "            else:\n",
    "                return None\n",
    "\n",
    "    def find_closest_to_the_right_strict_value_only(self,value):\n",
    "        return self.find_closest_to_the_right_strict(self.root,NodeKey(value))\n",
    "\n",
    "\n",
    "    "
   ]
  },
  {
   "cell_type": "code",
   "execution_count": null,
   "metadata": {
    "hidden": true
   },
   "outputs": [],
   "source": []
  },
  {
   "cell_type": "code",
   "execution_count": null,
   "metadata": {
    "hidden": true
   },
   "outputs": [],
   "source": []
  },
  {
   "cell_type": "code",
   "execution_count": null,
   "metadata": {
    "hidden": true
   },
   "outputs": [],
   "source": []
  },
  {
   "cell_type": "markdown",
   "metadata": {
    "heading_collapsed": true
   },
   "source": [
    "# redo Q1"
   ]
  },
  {
   "cell_type": "code",
   "execution_count": 501,
   "metadata": {
    "hidden": true
   },
   "outputs": [],
   "source": [
    "list_now = [423,231,5134,21332]"
   ]
  },
  {
   "cell_type": "code",
   "execution_count": 502,
   "metadata": {
    "hidden": true
   },
   "outputs": [],
   "source": [
    "heapq.heapify(list_now)"
   ]
  },
  {
   "cell_type": "code",
   "execution_count": 503,
   "metadata": {
    "hidden": true
   },
   "outputs": [
    {
     "data": {
      "text/plain": [
       "[231, 423, 5134, 21332]"
      ]
     },
     "execution_count": 503,
     "metadata": {},
     "output_type": "execute_result"
    }
   ],
   "source": [
    "list_now"
   ]
  },
  {
   "cell_type": "code",
   "execution_count": null,
   "metadata": {
    "hidden": true
   },
   "outputs": [],
   "source": []
  },
  {
   "cell_type": "code",
   "execution_count": 499,
   "metadata": {
    "hidden": true
   },
   "outputs": [],
   "source": [
    "#!/bin/python\n",
    "\n",
    "import math\n",
    "import os\n",
    "import random\n",
    "import re\n",
    "import sys\n",
    "\n",
    "import heapq"
   ]
  },
  {
   "cell_type": "code",
   "execution_count": null,
   "metadata": {
    "hidden": true
   },
   "outputs": [],
   "source": []
  },
  {
   "cell_type": "code",
   "execution_count": null,
   "metadata": {
    "hidden": true
   },
   "outputs": [],
   "source": []
  },
  {
   "cell_type": "code",
   "execution_count": 550,
   "metadata": {
    "hidden": true
   },
   "outputs": [
    {
     "name": "stdout",
     "output_type": "stream",
     "text": [
      "5\n",
      "09:30:00 1 b 100 l 9.99\n",
      "09:31:00 2 b 1000 l 9.95\n",
      "09:32:00 3 s 100 l 10.01\n",
      "09:33:00 4 s 1000 l 10.05\n",
      "09:41:00 5 b 200 m -1.00\n"
     ]
    }
   ],
   "source": [
    "input_1 = raw_input()\n",
    "input_1 = int(input_1)\n",
    "list_of_lines = []\n",
    "for i in range(input_1):\n",
    "    input_2 = raw_input()\n",
    "    list_of_lines.append(input_2)\n",
    "\n"
   ]
  },
  {
   "cell_type": "code",
   "execution_count": 583,
   "metadata": {
    "hidden": true
   },
   "outputs": [],
   "source": [
    "list_of_lines.append(\"09:42:00 6 s 200 m -1.00\")"
   ]
  },
  {
   "cell_type": "code",
   "execution_count": 594,
   "metadata": {
    "hidden": true
   },
   "outputs": [],
   "source": [
    "list_of_lines.append(\"09:43:00 7 b 200 l 11\")"
   ]
  },
  {
   "cell_type": "code",
   "execution_count": 608,
   "metadata": {
    "hidden": true
   },
   "outputs": [],
   "source": [
    "list_of_lines.append(\"09:44:00 8 s 200 m -1\")"
   ]
  },
  {
   "cell_type": "code",
   "execution_count": 621,
   "metadata": {
    "hidden": true
   },
   "outputs": [],
   "source": [
    "list_of_lines.append(\"09:45:00 8 s 1000 m -1\")"
   ]
  },
  {
   "cell_type": "code",
   "execution_count": 640,
   "metadata": {
    "hidden": true
   },
   "outputs": [],
   "source": [
    "\n",
    "list_of_lines.append(\"09:45:00 8 s 500 l 25\")"
   ]
  },
  {
   "cell_type": "code",
   "execution_count": 641,
   "metadata": {
    "hidden": true
   },
   "outputs": [],
   "source": [
    "list_of_lines.append(\"09:45:00 8 b 800 l 25\")"
   ]
  },
  {
   "cell_type": "code",
   "execution_count": 646,
   "metadata": {
    "hidden": true
   },
   "outputs": [],
   "source": [
    "list_of_lines.append(\"09:46:00 9 b 100 l 35\")"
   ]
  },
  {
   "cell_type": "code",
   "execution_count": 649,
   "metadata": {
    "hidden": true
   },
   "outputs": [],
   "source": [
    "list_of_lines.append(\"09:47:00 10 b 700 l 35\")\n"
   ]
  },
  {
   "cell_type": "code",
   "execution_count": 653,
   "metadata": {
    "hidden": true
   },
   "outputs": [],
   "source": [
    "list_of_lines.append(\"09:48:00 11 b 200 l 0.33\")\n",
    "\n",
    "\n"
   ]
  },
  {
   "cell_type": "code",
   "execution_count": 657,
   "metadata": {
    "hidden": true
   },
   "outputs": [],
   "source": [
    "list_of_lines.append(\"09:49:00 12 b 1000 m -1.00\")\n",
    "\n"
   ]
  },
  {
   "cell_type": "code",
   "execution_count": 660,
   "metadata": {
    "hidden": true
   },
   "outputs": [],
   "source": [
    "list_of_lines.append(\"09:50:00 4 s 1000 l 10.05\")\n",
    "\n",
    "\n",
    "\n"
   ]
  },
  {
   "cell_type": "code",
   "execution_count": 664,
   "metadata": {
    "hidden": true
   },
   "outputs": [],
   "source": [
    "list_of_lines.append(\"09:51:00 12 b 10000 m -1.00\")\n",
    "\n"
   ]
  },
  {
   "cell_type": "code",
   "execution_count": 665,
   "metadata": {
    "hidden": true
   },
   "outputs": [
    {
     "data": {
      "text/plain": [
       "['09:30:00 1 b 100 l 9.99',\n",
       " '09:31:00 2 b 1000 l 9.95',\n",
       " '09:32:00 3 s 100 l 10.01',\n",
       " '09:33:00 4 s 1000 l 10.05',\n",
       " '09:41:00 5 b 200 m -1.00',\n",
       " '09:42:00 6 s 200 m -1.00',\n",
       " '09:43:00 7 b 200 l 11',\n",
       " '09:44:00 8 s 200 m -1',\n",
       " '09:45:00 8 s 1000 m -1',\n",
       " '09:45:00 8 s 500 l 25',\n",
       " '09:45:00 8 b 800 l 25',\n",
       " '09:46:00 9 b 100 l 35',\n",
       " '09:47:00 10 b 700 l 35',\n",
       " '09:48:00 11 b 200 l 0.33',\n",
       " '09:49:00 12 b 1000 m -1.00',\n",
       " '09:50:00 4 s 1000 l 10.05',\n",
       " '09:51:00 12 b 10000 m -1.00']"
      ]
     },
     "execution_count": 665,
     "metadata": {},
     "output_type": "execute_result"
    }
   ],
   "source": [
    "list_of_lines"
   ]
  },
  {
   "cell_type": "code",
   "execution_count": 639,
   "metadata": {
    "hidden": true
   },
   "outputs": [
    {
     "data": {
      "text/plain": [
       "'09:45:00 8 s 1000 l 700'"
      ]
     },
     "execution_count": 639,
     "metadata": {},
     "output_type": "execute_result"
    }
   ],
   "source": [
    "list_of_lines.pop()"
   ]
  },
  {
   "cell_type": "code",
   "execution_count": null,
   "metadata": {
    "hidden": true
   },
   "outputs": [],
   "source": []
  },
  {
   "cell_type": "code",
   "execution_count": null,
   "metadata": {
    "hidden": true
   },
   "outputs": [],
   "source": []
  },
  {
   "cell_type": "code",
   "execution_count": 666,
   "metadata": {
    "hidden": true
   },
   "outputs": [
    {
     "name": "stdout",
     "output_type": "stream",
     "text": [
      "09:41:00 5 3 10.01 100\n",
      "09:41:00 5 4 10.05 100\n",
      "09:42:00 6 1 9.99 100\n",
      "09:42:00 6 2 9.95 100\n",
      "09:43:00 7 4 10.05 200\n",
      "09:44:00 8 2 9.95 200\n",
      "09:45:00 8 2 9.95 700\n",
      "09:45:00 8 4 10.05 700\n",
      "09:45:00 8 8 25.00 100\n",
      "09:46:00 9 8 25.00 100\n",
      "09:47:00 10 8 25.00 300\n",
      "09:50:00 4 10 35.00 400\n",
      "09:51:00 12 4 10.05 600\n"
     ]
    }
   ],
   "source": [
    "\"\"\"ask heap is min heap (standard) containing (price,id,amount) \n",
    "and bid heap is max heap but implemented with min heap where each element is\n",
    "(-price,id,amount)  \"\"\"\n",
    "string_to_print = \"\"\n",
    "bid_heap = []\n",
    "ask_heap = []\n",
    "\n",
    "for i in range(len(list_of_lines)):\n",
    "    \n",
    "    line_now = list_of_lines[i]\n",
    "    splited_line = line_now.split(\" \")\n",
    "    time_stamp = splited_line[0]\n",
    "    id_now = int(splited_line[1])\n",
    "    buy_or_sell = splited_line[2]\n",
    "    amount = int(splited_line[3])\n",
    "    limit_or_market = splited_line[4]\n",
    "    limit_price = float(splited_line[5])\n",
    "\n",
    "    limit_or_market_original = limit_or_market\n",
    "\n",
    "    if limit_or_market == \"m\":\n",
    "        \"\"\"if it is market order, just consider it as a limit order with infinite\n",
    "        limit price for buy and 0 limit price for sell\"\"\"\n",
    "        limit_or_market = \"l\"\n",
    "        if buy_or_sell == \"b\":\n",
    "            limit_price = float(\"infinity\")\n",
    "        if buy_or_sell  == \"s\":\n",
    "            limit_price = 0 \n",
    "\n",
    "\n",
    "    if limit_or_market == \"l\":\n",
    "        if buy_or_sell == \"b\":\n",
    "            \"\"\"look into btree_ask\"\"\"\n",
    "            order_remaining = amount\n",
    "            \"\"\"firstly see if any amount can be filled \"\"\"\n",
    "            price_now = None\n",
    "            if len(ask_heap)>0:\n",
    "                if ask_heap[0][0] <= limit_price:\n",
    "                    price_now = ask_heap[0][0]\n",
    "                            \n",
    "            while price_now != None and len(ask_heap)>0 and order_remaining>0:\n",
    "                _, id_in_the_book, amount_in_the_book = ask_heap[0]\n",
    "                amount_filled = min(order_remaining,amount_in_the_book)\n",
    "                order_remaining = order_remaining - amount_filled\n",
    "                string_tmp = time_stamp + \" \" + str(id_now) + \" \" + str(id_in_the_book) + \" \" + (\"%.2f\" % price_now) + \" \" + str(amount_filled)  \n",
    "                print string_tmp\n",
    "                if amount_filled == amount_in_the_book:\n",
    "                    heapq.heappop(ask_heap)\n",
    "                else:\n",
    "                    ask_heap[0] = (price_now, id_in_the_book, amount_in_the_book - amount_filled)\n",
    "                price_now = None\n",
    "                if len(ask_heap)>0:\n",
    "                    if ask_heap[0][0] <= limit_price:\n",
    "                        price_now = ask_heap[0][0]\n",
    "\n",
    "            \"\"\"post buy order in bid_heap\"\"\" \n",
    "            if limit_or_market_original == \"l\":\n",
    "                if order_remaining > 0:\n",
    "                    heapq.heappush(bid_heap,(-limit_price,id_now,order_remaining))\n",
    "                    \n",
    "        if buy_or_sell == \"s\":\n",
    "            \"\"\"look into btree_ask\"\"\"\n",
    "            order_remaining = amount\n",
    "            \"\"\"firstly see if any amount can be filled \"\"\"\n",
    "            price_now = None\n",
    "            if len(bid_heap)>0:\n",
    "                if -bid_heap[0][0] >= limit_price: #-bid_heap[0] is the price, so that bid the top pops out\n",
    "                    price_now = -bid_heap[0][0]\n",
    "\n",
    "\n",
    "            while price_now != None and len(bid_heap)>0 and order_remaining>0:                \n",
    "                _, id_in_the_book, amount_in_the_book = bid_heap[0]\n",
    "                amount_filled = min(order_remaining,amount_in_the_book)\n",
    "                order_remaining = order_remaining - amount_filled\n",
    "                string_tmp = time_stamp + \" \" + str(id_now) + \" \" + str(id_in_the_book) + \" \" + (\"%.2f\" % price_now) + \" \" + str(amount_filled)  \n",
    "                print string_tmp\n",
    "                if amount_filled == amount_in_the_book:\n",
    "                    heapq.heappop(bid_heap)\n",
    "                else:\n",
    "                    bid_heap[0] = (-price_now, id_in_the_book, amount_in_the_book - amount_filled)\n",
    "                price_now = None\n",
    "                if len(bid_heap)>0:\n",
    "                    if -bid_heap[0][0] >= limit_price: #-bid_heap[0] is the price, so that bid the top pops out\n",
    "                        price_now = -bid_heap[0][0]\n",
    "\n",
    "\n",
    "            \"\"\"post sell order in ask_heap\"\"\" \n",
    "            if limit_or_market_original == \"l\":\n",
    "                if order_remaining > 0:\n",
    "                    heapq.heappush(ask_heap,(limit_price,id_now,order_remaining))\n",
    "\n"
   ]
  },
  {
   "cell_type": "code",
   "execution_count": null,
   "metadata": {
    "hidden": true
   },
   "outputs": [],
   "source": []
  },
  {
   "cell_type": "code",
   "execution_count": 667,
   "metadata": {
    "hidden": true
   },
   "outputs": [
    {
     "name": "stdout",
     "output_type": "stream",
     "text": [
      "[(-0.33, 11, 200)]\n",
      "[]\n"
     ]
    }
   ],
   "source": [
    "    print bid_heap\n",
    "    print ask_heap\n",
    "\n"
   ]
  },
  {
   "cell_type": "code",
   "execution_count": null,
   "metadata": {
    "hidden": true
   },
   "outputs": [],
   "source": []
  },
  {
   "cell_type": "code",
   "execution_count": null,
   "metadata": {
    "hidden": true
   },
   "outputs": [],
   "source": []
  },
  {
   "cell_type": "code",
   "execution_count": null,
   "metadata": {
    "hidden": true
   },
   "outputs": [],
   "source": []
  },
  {
   "cell_type": "code",
   "execution_count": null,
   "metadata": {
    "hidden": true
   },
   "outputs": [],
   "source": []
  },
  {
   "cell_type": "code",
   "execution_count": 615,
   "metadata": {
    "hidden": true
   },
   "outputs": [
    {
     "data": {
      "text/plain": [
       "True"
      ]
     },
     "execution_count": 615,
     "metadata": {},
     "output_type": "execute_result"
    }
   ],
   "source": [
    "len(bid_heap)>0"
   ]
  },
  {
   "cell_type": "code",
   "execution_count": 616,
   "metadata": {
    "hidden": true
   },
   "outputs": [
    {
     "data": {
      "text/plain": [
       "-9.95"
      ]
     },
     "execution_count": 616,
     "metadata": {},
     "output_type": "execute_result"
    }
   ],
   "source": [
    "-bid_heap[0][0]"
   ]
  },
  {
   "cell_type": "code",
   "execution_count": null,
   "metadata": {
    "hidden": true
   },
   "outputs": [],
   "source": []
  },
  {
   "cell_type": "code",
   "execution_count": null,
   "metadata": {
    "hidden": true
   },
   "outputs": [],
   "source": []
  },
  {
   "cell_type": "code",
   "execution_count": 613,
   "metadata": {
    "hidden": true
   },
   "outputs": [
    {
     "ename": "IndentationError",
     "evalue": "expected an indented block (<ipython-input-613-27e461a463b2>, line 2)",
     "output_type": "error",
     "traceback": [
      "\u001b[0;36m  File \u001b[0;32m\"<ipython-input-613-27e461a463b2>\"\u001b[0;36m, line \u001b[0;32m2\u001b[0m\n\u001b[0;31m    \u001b[0m\n\u001b[0m    ^\u001b[0m\n\u001b[0;31mIndentationError\u001b[0m\u001b[0;31m:\u001b[0m expected an indented block\n"
     ]
    }
   ],
   "source": [
    "            if len(bid_heap)>0:\n",
    "\n"
   ]
  },
  {
   "cell_type": "code",
   "execution_count": null,
   "metadata": {
    "hidden": true
   },
   "outputs": [],
   "source": []
  },
  {
   "cell_type": "code",
   "execution_count": 605,
   "metadata": {
    "hidden": true
   },
   "outputs": [
    {
     "data": {
      "text/plain": [
       "[(9.95, 2, 900)]"
      ]
     },
     "execution_count": 605,
     "metadata": {},
     "output_type": "execute_result"
    }
   ],
   "source": [
    "bid_heap"
   ]
  },
  {
   "cell_type": "code",
   "execution_count": 606,
   "metadata": {
    "hidden": true
   },
   "outputs": [
    {
     "data": {
      "text/plain": [
       "[(10.05, 4, 700)]"
      ]
     },
     "execution_count": 606,
     "metadata": {},
     "output_type": "execute_result"
    }
   ],
   "source": [
    "ask_heap"
   ]
  },
  {
   "cell_type": "code",
   "execution_count": null,
   "metadata": {
    "hidden": true
   },
   "outputs": [],
   "source": []
  },
  {
   "cell_type": "code",
   "execution_count": null,
   "metadata": {
    "hidden": true
   },
   "outputs": [],
   "source": []
  },
  {
   "cell_type": "code",
   "execution_count": 563,
   "metadata": {
    "hidden": true
   },
   "outputs": [
    {
     "ename": "TypeError",
     "evalue": "float argument required, not NoneType",
     "output_type": "error",
     "traceback": [
      "\u001b[0;31m---------------------------------------------------------------------------\u001b[0m",
      "\u001b[0;31mTypeError\u001b[0m                                 Traceback (most recent call last)",
      "\u001b[0;32m<ipython-input-563-b22cf986806e>\u001b[0m in \u001b[0;36m<module>\u001b[0;34m()\u001b[0m\n\u001b[0;32m----> 1\u001b[0;31m \u001b[0mtime_stamp\u001b[0m \u001b[0;34m+\u001b[0m \u001b[0;34m\" \"\u001b[0m \u001b[0;34m+\u001b[0m \u001b[0mstr\u001b[0m\u001b[0;34m(\u001b[0m\u001b[0mid_now\u001b[0m\u001b[0;34m)\u001b[0m \u001b[0;34m+\u001b[0m \u001b[0;34m\" \"\u001b[0m \u001b[0;34m+\u001b[0m \u001b[0mstr\u001b[0m\u001b[0;34m(\u001b[0m\u001b[0mid_in_the_book\u001b[0m\u001b[0;34m)\u001b[0m \u001b[0;34m+\u001b[0m \u001b[0;34m\" \"\u001b[0m \u001b[0;34m+\u001b[0m \u001b[0;34m(\u001b[0m\u001b[0;34m\"%.2f\"\u001b[0m \u001b[0;34m%\u001b[0m \u001b[0mprice_now\u001b[0m\u001b[0;34m)\u001b[0m \u001b[0;34m+\u001b[0m \u001b[0;34m\" \"\u001b[0m \u001b[0;34m+\u001b[0m \u001b[0mstr\u001b[0m\u001b[0;34m(\u001b[0m\u001b[0mamount_filled\u001b[0m\u001b[0;34m)\u001b[0m\u001b[0;34m\u001b[0m\u001b[0m\n\u001b[0m\u001b[1;32m      2\u001b[0m \u001b[0;34m\u001b[0m\u001b[0m\n",
      "\u001b[0;31mTypeError\u001b[0m: float argument required, not NoneType"
     ]
    }
   ],
   "source": [
    "time_stamp + \" \" + str(id_now) + \" \" + str(id_in_the_book) + \" \" + (\"%.2f\" % price_now) + \" \" + str(amount_filled)  \n",
    "                "
   ]
  },
  {
   "cell_type": "code",
   "execution_count": 513,
   "metadata": {
    "hidden": true
   },
   "outputs": [
    {
     "ename": "TypeError",
     "evalue": "cannot concatenate 'str' and 'int' objects",
     "output_type": "error",
     "traceback": [
      "\u001b[0;31m---------------------------------------------------------------------------\u001b[0m",
      "\u001b[0;31mTypeError\u001b[0m                                 Traceback (most recent call last)",
      "\u001b[0;32m<ipython-input-513-db1f502ffbf0>\u001b[0m in \u001b[0;36m<module>\u001b[0;34m()\u001b[0m\n\u001b[0;32m----> 1\u001b[0;31m \u001b[0mtime_stamp\u001b[0m \u001b[0;34m+\u001b[0m \u001b[0;34m\" \"\u001b[0m \u001b[0;34m+\u001b[0m \u001b[0mstr\u001b[0m\u001b[0;34m(\u001b[0m\u001b[0mid_now\u001b[0m\u001b[0;34m)\u001b[0m \u001b[0;34m+\u001b[0m \u001b[0;34m\" \"\u001b[0m \u001b[0;34m+\u001b[0m \u001b[0mid_in_the_book\u001b[0m \u001b[0;34m+\u001b[0m \u001b[0;34m\" \"\u001b[0m \u001b[0;34m+\u001b[0m \u001b[0;34m(\u001b[0m\u001b[0;34m\"%.2f\"\u001b[0m \u001b[0;34m%\u001b[0m \u001b[0mprice_now\u001b[0m\u001b[0;34m)\u001b[0m \u001b[0;34m+\u001b[0m \u001b[0;34m\" \"\u001b[0m \u001b[0;34m+\u001b[0m \u001b[0mstr\u001b[0m\u001b[0;34m(\u001b[0m\u001b[0mamount_filled\u001b[0m\u001b[0;34m)\u001b[0m\u001b[0;34m\u001b[0m\u001b[0m\n\u001b[0m",
      "\u001b[0;31mTypeError\u001b[0m: cannot concatenate 'str' and 'int' objects"
     ]
    }
   ],
   "source": [
    " time_stamp + \" \" + str(id_now) + \" \" + id_in_the_book + \" \" + (\"%.2f\" % price_now) + \" \" + str(amount_filled)"
   ]
  },
  {
   "cell_type": "code",
   "execution_count": 509,
   "metadata": {
    "hidden": true
   },
   "outputs": [
    {
     "data": {
      "text/plain": [
       "10.01"
      ]
     },
     "execution_count": 509,
     "metadata": {},
     "output_type": "execute_result"
    }
   ],
   "source": [
    "limit_price"
   ]
  },
  {
   "cell_type": "code",
   "execution_count": null,
   "metadata": {
    "hidden": true
   },
   "outputs": [],
   "source": []
  },
  {
   "cell_type": "markdown",
   "metadata": {},
   "source": [
    "# final product"
   ]
  },
  {
   "cell_type": "code",
   "execution_count": null,
   "metadata": {},
   "outputs": [],
   "source": [
    "#!/bin/python\n",
    "\n",
    "import math\n",
    "import os\n",
    "import random\n",
    "import re\n",
    "import sys\n",
    "import heapq\n",
    "\n",
    "input_1 = raw_input()\n",
    "input_1 = int(input_1)\n",
    "list_of_lines = []\n",
    "for i in range(input_1):\n",
    "    input_2 = raw_input()\n",
    "    list_of_lines.append(input_2)\n",
    "\n",
    "\n",
    "\"\"\"ask heap is min heap (standard) containing (price,id,amount) \n",
    "and bid heap is max heap but implemented with min heap where each element is\n",
    "(-price,id,amount)  \"\"\"\n",
    "string_to_print = \"\"\n",
    "bid_heap = []\n",
    "ask_heap = []\n",
    "\n",
    "for i in range(len(list_of_lines)):\n",
    "    \n",
    "    line_now = list_of_lines[i]\n",
    "    splited_line = line_now.split(\" \")\n",
    "    time_stamp = splited_line[0]\n",
    "    id_now = int(splited_line[1])\n",
    "    buy_or_sell = splited_line[2]\n",
    "    amount = int(splited_line[3])\n",
    "    limit_or_market = splited_line[4]\n",
    "    limit_price = float(splited_line[5])\n",
    "\n",
    "    limit_or_market_original = limit_or_market\n",
    "\n",
    "    if limit_or_market == \"m\":\n",
    "        \"\"\"if it is market order, just consider it as a limit order with infinite\n",
    "        limit price for buy and 0 limit price for sell\"\"\"\n",
    "        limit_or_market = \"l\"\n",
    "        if buy_or_sell == \"b\":\n",
    "            limit_price = float(\"infinity\")\n",
    "        if buy_or_sell  == \"s\":\n",
    "            limit_price = 0 \n",
    "\n",
    "\n",
    "    if limit_or_market == \"l\":\n",
    "        if buy_or_sell == \"b\":\n",
    "            \"\"\"look into btree_ask\"\"\"\n",
    "            order_remaining = amount\n",
    "            \"\"\"firstly see if any amount can be filled \"\"\"\n",
    "            price_now = None\n",
    "            if len(ask_heap)>0:\n",
    "                if ask_heap[0][0] <= limit_price:\n",
    "                    price_now = ask_heap[0][0]\n",
    "                            \n",
    "            while price_now != None and len(ask_heap)>0 and order_remaining>0:\n",
    "                _, id_in_the_book, amount_in_the_book = ask_heap[0]\n",
    "                amount_filled = min(order_remaining,amount_in_the_book)\n",
    "                order_remaining = order_remaining - amount_filled\n",
    "                string_tmp = time_stamp + \" \" + str(id_now) + \" \" + str(id_in_the_book) + \" \" + (\"%.2f\" % price_now) + \" \" + str(amount_filled)  \n",
    "                print string_tmp\n",
    "                if amount_filled == amount_in_the_book:\n",
    "                    heapq.heappop(ask_heap)\n",
    "                else:\n",
    "                    ask_heap[0] = (price_now, id_in_the_book, amount_in_the_book - amount_filled)\n",
    "                price_now = None\n",
    "                if len(ask_heap)>0:\n",
    "                    if ask_heap[0][0] <= limit_price:\n",
    "                        price_now = ask_heap[0][0]\n",
    "\n",
    "            \"\"\"post buy order in bid_heap\"\"\" \n",
    "            if limit_or_market_original == \"l\":\n",
    "                if order_remaining > 0:\n",
    "                    heapq.heappush(bid_heap,(-limit_price,id_now,order_remaining))\n",
    "                    \n",
    "        if buy_or_sell == \"s\":\n",
    "            \"\"\"look into btree_ask\"\"\"\n",
    "            order_remaining = amount\n",
    "            \"\"\"firstly see if any amount can be filled \"\"\"\n",
    "            price_now = None\n",
    "            if len(bid_heap)>0:\n",
    "                if -bid_heap[0][0] >= limit_price: #-bid_heap[0] is the price, so that bid the top pops out\n",
    "                    price_now = -bid_heap[0][0]\n",
    "\n",
    "\n",
    "            while price_now != None and len(bid_heap)>0 and order_remaining>0:                \n",
    "                _, id_in_the_book, amount_in_the_book = bid_heap[0]\n",
    "                amount_filled = min(order_remaining,amount_in_the_book)\n",
    "                order_remaining = order_remaining - amount_filled\n",
    "                string_tmp = time_stamp + \" \" + str(id_now) + \" \" + str(id_in_the_book) + \" \" + (\"%.2f\" % price_now) + \" \" + str(amount_filled)  \n",
    "                print string_tmp\n",
    "                if amount_filled == amount_in_the_book:\n",
    "                    heapq.heappop(bid_heap)\n",
    "                else:\n",
    "                    bid_heap[0] = (-price_now, id_in_the_book, amount_in_the_book - amount_filled)\n",
    "                price_now = None\n",
    "                if len(bid_heap)>0:\n",
    "                    if -bid_heap[0][0] >= limit_price: #-bid_heap[0] is the price, so that bid the top pops out\n",
    "                        price_now = -bid_heap[0][0]\n",
    "\n",
    "\n",
    "            \"\"\"post sell order in ask_heap\"\"\" \n",
    "            if limit_or_market_original == \"l\":\n",
    "                if order_remaining > 0:\n",
    "                    heapq.heappush(ask_heap,(limit_price,id_now,order_remaining))\n",
    "\n",
    "\n",
    "\n"
   ]
  },
  {
   "cell_type": "code",
   "execution_count": null,
   "metadata": {},
   "outputs": [],
   "source": []
  },
  {
   "cell_type": "code",
   "execution_count": null,
   "metadata": {},
   "outputs": [],
   "source": []
  },
  {
   "cell_type": "code",
   "execution_count": null,
   "metadata": {},
   "outputs": [],
   "source": []
  },
  {
   "cell_type": "markdown",
   "metadata": {
    "heading_collapsed": true
   },
   "source": [
    "# real Q1\n"
   ]
  },
  {
   "cell_type": "code",
   "execution_count": 483,
   "metadata": {
    "hidden": true
   },
   "outputs": [],
   "source": [
    "import heapq"
   ]
  },
  {
   "cell_type": "code",
   "execution_count": 490,
   "metadata": {
    "hidden": true
   },
   "outputs": [],
   "source": [
    "list_now = [1,3,2,4,2,13,1]"
   ]
  },
  {
   "cell_type": "code",
   "execution_count": 493,
   "metadata": {
    "hidden": true
   },
   "outputs": [],
   "source": [
    "heapq.heapify(list_now)"
   ]
  },
  {
   "cell_type": "code",
   "execution_count": 494,
   "metadata": {
    "hidden": true
   },
   "outputs": [
    {
     "data": {
      "text/plain": [
       "[1, 2, 1, 4, 3, 13, 2]"
      ]
     },
     "execution_count": 494,
     "metadata": {},
     "output_type": "execute_result"
    }
   ],
   "source": [
    "list_now"
   ]
  },
  {
   "cell_type": "code",
   "execution_count": 496,
   "metadata": {
    "hidden": true
   },
   "outputs": [],
   "source": [
    "heapq.heappush(list_now,10)"
   ]
  },
  {
   "cell_type": "code",
   "execution_count": null,
   "metadata": {
    "hidden": true
   },
   "outputs": [],
   "source": []
  },
  {
   "cell_type": "code",
   "execution_count": null,
   "metadata": {
    "hidden": true
   },
   "outputs": [],
   "source": []
  },
  {
   "cell_type": "code",
   "execution_count": 481,
   "metadata": {
    "hidden": true
   },
   "outputs": [
    {
     "name": "stdout",
     "output_type": "stream",
     "text": [
      "5\n",
      "09:30:00 1 b 100 l 9.99\n",
      "09:31:00 2 b 1000 l 9.95\n",
      "09:32:00 3 s 100 l 10.01\n",
      "09:33:00 4 s 1000 l 10.05\n",
      "09:41:00 5 b 200 m -1.00\n"
     ]
    }
   ],
   "source": [
    "    input_1 = raw_input()\n",
    "    input_1 = int(input_1)\n",
    "    list_of_lines = []\n",
    "    for i in range(input_1):\n",
    "        input_2 = raw_input()\n",
    "        list_of_lines.append(input_2)\n"
   ]
  },
  {
   "cell_type": "code",
   "execution_count": null,
   "metadata": {
    "hidden": true
   },
   "outputs": [],
   "source": []
  },
  {
   "cell_type": "code",
   "execution_count": null,
   "metadata": {
    "hidden": true
   },
   "outputs": [],
   "source": [
    "string_to_print = \"\"\n",
    "\n",
    "\"\"\"this hash table is used to associate with each bid/ask with its avaialble offer in sequence\n",
    "we will use queue here, an implemention from python is with deque(a bit more expensive)\n",
    "\"\"\"\n",
    "\"\"\"I realized there is issue in my binary search tree code. I cannot Tree.find after I Tree.search\"\"\"\n",
    "\"\"\"i don't know of other built in binary search in python and I don't have time to rebuilt \n",
    "my previous binary tree , so I have to use a less efficient method with sorted list\"\"\"\n",
    "bid_hash = {}\n",
    "ask_hash = {}\n",
    "btree_bid = BinaryTree()\n",
    "btree_ask = BinaryTree()\n",
    "sorted_list_bid = []\n",
    "sorted_list_ask = []"
   ]
  },
  {
   "cell_type": "code",
   "execution_count": null,
   "metadata": {
    "hidden": true
   },
   "outputs": [],
   "source": []
  },
  {
   "cell_type": "code",
   "execution_count": null,
   "metadata": {
    "hidden": true
   },
   "outputs": [],
   "source": []
  },
  {
   "cell_type": "code",
   "execution_count": null,
   "metadata": {
    "hidden": true
   },
   "outputs": [],
   "source": []
  },
  {
   "cell_type": "code",
   "execution_count": 482,
   "metadata": {
    "hidden": true
   },
   "outputs": [
    {
     "name": "stdout",
     "output_type": "stream",
     "text": [
      "here\n",
      "here\n"
     ]
    },
    {
     "ename": "KeyError",
     "evalue": "9.99",
     "output_type": "error",
     "traceback": [
      "\u001b[0;31m---------------------------------------------------------------------------\u001b[0m",
      "\u001b[0;31mKeyError\u001b[0m                                  Traceback (most recent call last)",
      "\u001b[0;32m<ipython-input-482-590df0902526>\u001b[0m in \u001b[0;36m<module>\u001b[0;34m()\u001b[0m\n\u001b[1;32m    122\u001b[0m \u001b[0;34m\u001b[0m\u001b[0m\n\u001b[1;32m    123\u001b[0m             \u001b[0;32mwhile\u001b[0m \u001b[0mprice_now\u001b[0m \u001b[0;34m!=\u001b[0m \u001b[0mNone\u001b[0m \u001b[0;32mand\u001b[0m \u001b[0morder_remaining\u001b[0m\u001b[0;34m>\u001b[0m\u001b[0;36m0\u001b[0m\u001b[0;34m:\u001b[0m\u001b[0;34m\u001b[0m\u001b[0m\n\u001b[0;32m--> 124\u001b[0;31m                 \u001b[0mbid_hash_value_deque_now\u001b[0m \u001b[0;34m=\u001b[0m \u001b[0mask_hash\u001b[0m\u001b[0;34m[\u001b[0m\u001b[0mprice_now\u001b[0m\u001b[0;34m]\u001b[0m\u001b[0;34m\u001b[0m\u001b[0m\n\u001b[0m\u001b[1;32m    125\u001b[0m                 \u001b[0;32mwhile\u001b[0m \u001b[0mlen\u001b[0m\u001b[0;34m(\u001b[0m\u001b[0mbid_hash_value_deque_now\u001b[0m\u001b[0;34m)\u001b[0m\u001b[0;34m>\u001b[0m\u001b[0;36m0\u001b[0m \u001b[0;32mand\u001b[0m \u001b[0morder_remaining\u001b[0m\u001b[0;34m>\u001b[0m\u001b[0;36m0\u001b[0m\u001b[0;34m:\u001b[0m\u001b[0;34m\u001b[0m\u001b[0m\n\u001b[1;32m    126\u001b[0m                     \u001b[0mthe_id_amount_to_examine\u001b[0m \u001b[0;34m=\u001b[0m \u001b[0mbid_hash_value_deque_now\u001b[0m\u001b[0;34m[\u001b[0m\u001b[0;36m0\u001b[0m\u001b[0;34m]\u001b[0m\u001b[0;34m\u001b[0m\u001b[0m\n",
      "\u001b[0;31mKeyError\u001b[0m: 9.99"
     ]
    }
   ],
   "source": [
    "for i in range(input_1):\n",
    "    line_now = list_of_lines[i]\n",
    "    splited_line = line_now.split(\" \")\n",
    "\n",
    "    time_stamp = splited_line[0]\n",
    "    id_now = splited_line[1]\n",
    "    buy_or_sell = splited_line[2]\n",
    "    amount = int(splited_line[3])\n",
    "    limit_or_market = splited_line[4]\n",
    "    limit_price = float(splited_line[5])\n",
    "\n",
    "    limit_or_market_original = limit_or_market\n",
    "\n",
    "    if limit_or_market == \"m\":\n",
    "        \"\"\"if it is market order, just consider it as a limit order with 0\n",
    "        limit price for buy and infinite limit price for sell\"\"\"\n",
    "        limit_or_market = \"l\"\n",
    "        if buy_or_sell == \"b\":\n",
    "            limit_price = 0\n",
    "        if buy_or_sell  == \"s\":\n",
    "            limit_price = float(\"infinity\")\n",
    "\n",
    "\n",
    "\n",
    "    if limit_or_market == \"l\":\n",
    "        if buy_or_sell == \"b\":\n",
    "            print \"here\"\n",
    "            \"\"\"look into btree_ask\"\"\"\n",
    "            order_remaining = amount\n",
    "            \"\"\"firstly see if any amount can be filled \"\"\"\n",
    "            price_now = None\n",
    "            lo, matched = bisect_left(sorted_list_ask,limit_price)\n",
    "            if matched:\n",
    "                price_now = sorted_list_bid[lo]\n",
    "            elif lo+1 < len(sorted_list_ask):\n",
    "                price_now = sorted_list_ask[lo + 1]\n",
    "                \n",
    "#             if btree_ask.find(limit_price):\n",
    "#                 price_now = limit_price\n",
    "#             else:\n",
    "#                 node_now = btree_ask.find_closest_to_the_right_strict_value_only(limit_price)\n",
    "#                 if node_now:\n",
    "#                     price_now = node_now.value\n",
    "\n",
    "            while price_now != None and order_remaining>0:\n",
    "                ask_hash_value_deque_now = ask_hash[price_now]\n",
    "                while len(ask_hash_value_deque_now)>0 and order_remaining>0:\n",
    "                    the_id_amount_to_examine = ask_hash_value_deque_now[0]\n",
    "                    id_in_the_book = the_id_amount_to_examine[0]\n",
    "                    amount_in_the_book = the_id_amount_to_examine[1]\n",
    "                    amount_filled = min(order_remaining,amount_in_the_book)\n",
    "                    order_remaining = order_remaining - amount_filled\n",
    "                    string_tmp = time_stamp + \" \" + id_now + \" \" + id_in_the_book + \" \" + (\"%.2f\" % price_now) + \" \" + str(amount_filled)  \n",
    "                    string_to_print += string_tmp\n",
    "                    print string_tmp\n",
    "                    if amount_filled == amount_in_the_book:\n",
    "                        ask_hash_value_deque_now.popleft()\n",
    "                        if len(ask_hash_value_deque_now) == 0 :\n",
    "                            del ask_hash[price_now]\n",
    "#                             btree_ask.remove(price_now)\n",
    "                            lo, matched = bisect_left(sorted_list_ask,limit_price)\n",
    "                            sorted_list_ask.remove(lo)\n",
    "                    else:\n",
    "                        ask_hash_value_deque_now[0][1] = amount_in_the_book - amount_filled\n",
    "            price_now = None\n",
    "            lo, matched = bisect_left(sorted_list_ask,limit_price)\n",
    "            if matched:\n",
    "                price_now = sorted_list_bid[lo]\n",
    "            elif lo+1 < len(sorted_list_ask):\n",
    "                price_now = sorted_list_ask[lo + 1]\n",
    "\n",
    "#                 node_now = btree_ask.find_closest_to_the_right_strict_value_only(limit_price)\n",
    "#                 if node_now:\n",
    "#                     price_now = node_now.value\n",
    "\n",
    "\n",
    "            \"\"\"post buy order in btree_bid\"\"\" \n",
    "            if limit_or_market_original == \"l\":\n",
    "                if order_remaining > 0:\n",
    "                    \"\"\"tree is more efficient\"\"\"\n",
    "#                     btree_bid.insert(limit_price)\n",
    "                    insort_left(sorted_list_bid,limit_price)\n",
    "                    if limit_price in bid_hash:\n",
    "                        bid_hash[limit_price].append([id_now,order_remaining])\n",
    "                    else:\n",
    "                        bid_hash[limit_price] = deque()\n",
    "                        bid_hash[limit_price].append([id_now,order_remaining])        \n",
    "\n",
    "        if buy_or_sell == \"s\":\n",
    "            order_remaining = amount\n",
    "            price_now = None\n",
    "            lo, matched = bisect_left(sorted_list_bid,limit_price)\n",
    "            if matched:\n",
    "                price_now = sorted_list_bid[lo]\n",
    "            elif lo -1  >= 0:\n",
    "                price_now = sorted_list_bid[lo-1]\n",
    "\n",
    "            \n",
    "#             if btree_bid.find(limit_price):\n",
    "#                 price_now = limit_price\n",
    "#             else:\n",
    "#                 node_now = btree_bid.find_closest_to_the_left_strict_value_only(limit_price)\n",
    "#                 if node_now:\n",
    "#                     price_now = node_now.value\n",
    "\n",
    "            while price_now != None and order_remaining>0:\n",
    "                bid_hash_value_deque_now = ask_hash[price_now]\n",
    "                while len(bid_hash_value_deque_now)>0 and order_remaining>0:\n",
    "                    the_id_amount_to_examine = bid_hash_value_deque_now[0]\n",
    "                    id_in_the_book = the_id_amount_to_examine[0]\n",
    "                    amount_in_the_book = the_id_amount_to_examine[1]\n",
    "                    amount_filled = min(order_remaining,amount_in_the_book)\n",
    "                    order_remaining = order_remaining - amount_filled\n",
    "                    string_tmp = time_stamp + \" \" + id_now + \" \" + id_in_the_book + \" \" + (\"%.2f\" % price_now) + \" \" + str(amount_filled)  \n",
    "                    string_to_print += string_tmp\n",
    "                    print string_tmp\n",
    "                    if amount_filled == amount_in_the_book:\n",
    "                        bid_hash_value_deque_now.popleft()\n",
    "                        if len(bid_hash_value_deque_now) == 0 :\n",
    "                            del bid_hash[price_now]\n",
    "                            \"\"\"this is designed to work, but due to some issue, it does not work for now, I will need more time to debug into it \"\"\"\n",
    "#                             btree_bid.remove(price_now)\n",
    "                            lo, matched = bisect_left(sorted_list_bid,limit_price)\n",
    "                            sorted_list_bid.remove(lo)\n",
    "                    else:\n",
    "                        ask_hash_value_deque_now[0][1] = amount_in_the_book - amount_filled\n",
    "                price_now = None\n",
    "                lo, matched = bisect_left(sorted_list_bid,limit_price)\n",
    "                if matched:\n",
    "                    price_now = sorted_list_bid[lo]\n",
    "                elif lo -1  >= 0:\n",
    "                    price_now = sorted_list_bid[lo-1]\n",
    "\n",
    "                \"\"\"below is more efficient but there is bug\"\"\"\n",
    "#                 node_now = btree_bid.find_closest_to_the_left_strict_value_only(limit_price)\n",
    "#                 if node_now:\n",
    "#                     price_now = node_now.value\n",
    "\n",
    "        \n",
    "            \n",
    "            \"\"\"post sell order in btree_ask\"\"\" \n",
    "            if limit_or_market_original == \"l\":\n",
    "                if order_remaining > 0:\n",
    "#                     print \"inserting \"+str(limit_price)\n",
    "                    insort_left(sorted_list_ask,limit_price)\n",
    "#                     btree_ask.insert(limit_price)\n",
    "                    if limit_price in ask_hash:\n",
    "                        ask_hash[limit_price].append([id_now,order_remaining])\n",
    "                    else:\n",
    "                        ask_hash[limit_price] = deque()\n",
    "                        ask_hash[limit_price].append([id_now,order_remaining])        "
   ]
  },
  {
   "cell_type": "code",
   "execution_count": null,
   "metadata": {
    "hidden": true
   },
   "outputs": [],
   "source": []
  },
  {
   "cell_type": "code",
   "execution_count": 336,
   "metadata": {
    "hidden": true
   },
   "outputs": [],
   "source": [
    "btree = BinaryTree()"
   ]
  },
  {
   "cell_type": "code",
   "execution_count": 347,
   "metadata": {
    "hidden": true
   },
   "outputs": [],
   "source": [
    "for i in range(1000):\n",
    "    rand_now = random.randint(0,100)\n",
    "\n",
    "    btree.insert(rand_now)\n",
    "btree.insert(11)"
   ]
  },
  {
   "cell_type": "code",
   "execution_count": 348,
   "metadata": {
    "hidden": true
   },
   "outputs": [
    {
     "name": "stdout",
     "output_type": "stream",
     "text": [
      "[0, 1, 2, 3, 4, 5, 6, 7, 8, 9, 10, 11, 12, 13, 14, 15, 16, 17, 18, 19, 20, 21, 22, 23, 24, 25, 26, 27, 28, 29, 30, 31, 32, 33, 34, 35, 36, 37, 38, 39, 40, 41, 42, 43, 44, 45, 46, 47, 48, 49, 50, 51, 52, 53, 54, 55, 56, 57, 58, 59, 60, 61, 62, 63, 64, 65, 66, 67, 68, 69, 70, 71, 72, 73, 74, 75, 76, 77, 78, 79, 80, 81, 82, 83, 84, 85, 86, 87, 88, 89, 90, 91, 92, 93, 94, 95, 96, 97, 98, 99, 100]\n"
     ]
    }
   ],
   "source": [
    "print btree.as_list(1)"
   ]
  },
  {
   "cell_type": "code",
   "execution_count": null,
   "metadata": {
    "hidden": true
   },
   "outputs": [],
   "source": []
  },
  {
   "cell_type": "code",
   "execution_count": 349,
   "metadata": {
    "hidden": true
   },
   "outputs": [
    {
     "data": {
      "text/plain": [
       "<__main__.Node instance at 0x7fabdefd10e0>"
      ]
     },
     "execution_count": 349,
     "metadata": {},
     "output_type": "execute_result"
    }
   ],
   "source": [
    "btree.find(11)"
   ]
  },
  {
   "cell_type": "code",
   "execution_count": 350,
   "metadata": {
    "hidden": true
   },
   "outputs": [],
   "source": [
    "btree.remove(11)"
   ]
  },
  {
   "cell_type": "code",
   "execution_count": 351,
   "metadata": {
    "hidden": true
   },
   "outputs": [],
   "source": [
    "btree.find(11)"
   ]
  },
  {
   "cell_type": "code",
   "execution_count": 352,
   "metadata": {
    "hidden": true
   },
   "outputs": [
    {
     "name": "stdout",
     "output_type": "stream",
     "text": [
      "[0, 1, 2, 3, 4, 5, 6, 7, 8, 9, 10, 12, 13, 14, 15, 16, 17, 18, 19, 20, 21, 22, 23, 24, 25, 26, 27, 28, 29, 30, 31, 32, 33, 34, 35, 36, 37, 38, 39, 40, 41, 42, 43, 44, 45, 46, 47, 48, 49, 50, 51, 52, 53, 54, 55, 56, 57, 58, 59, 60, 61, 62, 63, 64, 65, 66, 67, 68, 69, 70, 71, 72, 73, 74, 75, 76, 77, 78, 79, 80, 81, 82, 83, 84, 85, 86, 87, 88, 89, 90, 91, 92, 93, 94, 95, 96, 97, 98, 99, 100]\n"
     ]
    }
   ],
   "source": [
    "print btree.as_list(1)"
   ]
  },
  {
   "cell_type": "code",
   "execution_count": 353,
   "metadata": {
    "hidden": true
   },
   "outputs": [],
   "source": [
    "    btree.insert(11.1)\n",
    "\n"
   ]
  },
  {
   "cell_type": "code",
   "execution_count": 354,
   "metadata": {
    "hidden": true
   },
   "outputs": [
    {
     "name": "stdout",
     "output_type": "stream",
     "text": [
      "[0, 1, 2, 3, 4, 5, 6, 7, 8, 9, 10, 11.1, 12, 13, 14, 15, 16, 17, 18, 19, 20, 21, 22, 23, 24, 25, 26, 27, 28, 29, 30, 31, 32, 33, 34, 35, 36, 37, 38, 39, 40, 41, 42, 43, 44, 45, 46, 47, 48, 49, 50, 51, 52, 53, 54, 55, 56, 57, 58, 59, 60, 61, 62, 63, 64, 65, 66, 67, 68, 69, 70, 71, 72, 73, 74, 75, 76, 77, 78, 79, 80, 81, 82, 83, 84, 85, 86, 87, 88, 89, 90, 91, 92, 93, 94, 95, 96, 97, 98, 99, 100]\n"
     ]
    }
   ],
   "source": [
    "print btree.as_list(1)"
   ]
  },
  {
   "cell_type": "code",
   "execution_count": 355,
   "metadata": {
    "hidden": true
   },
   "outputs": [],
   "source": [
    "btree.remove(11.1)"
   ]
  },
  {
   "cell_type": "code",
   "execution_count": 356,
   "metadata": {
    "hidden": true
   },
   "outputs": [
    {
     "name": "stdout",
     "output_type": "stream",
     "text": [
      "[0, 1, 2, 3, 4, 5, 6, 7, 8, 9, 10, 12, 13, 14, 15, 16, 17, 18, 19, 20, 21, 22, 23, 24, 25, 26, 27, 28, 29, 30, 31, 32, 33, 34, 35, 36, 37, 38, 39, 40, 41, 42, 43, 44, 45, 46, 47, 48, 49, 50, 51, 52, 53, 54, 55, 56, 57, 58, 59, 60, 61, 62, 63, 64, 65, 66, 67, 68, 69, 70, 71, 72, 73, 74, 75, 76, 77, 78, 79, 80, 81, 82, 83, 84, 85, 86, 87, 88, 89, 90, 91, 92, 93, 94, 95, 96, 97, 98, 99, 100]\n"
     ]
    }
   ],
   "source": [
    "print btree.as_list(1)"
   ]
  },
  {
   "cell_type": "code",
   "execution_count": null,
   "metadata": {
    "hidden": true
   },
   "outputs": [],
   "source": []
  },
  {
   "cell_type": "code",
   "execution_count": null,
   "metadata": {
    "hidden": true
   },
   "outputs": [],
   "source": []
  },
  {
   "cell_type": "code",
   "execution_count": null,
   "metadata": {
    "hidden": true
   },
   "outputs": [],
   "source": []
  },
  {
   "cell_type": "code",
   "execution_count": 357,
   "metadata": {
    "hidden": true
   },
   "outputs": [
    {
     "data": {
      "text/plain": [
       "[10.01, 10.05]"
      ]
     },
     "execution_count": 357,
     "metadata": {},
     "output_type": "execute_result"
    }
   ],
   "source": [
    "btree_ask.as_list(1)"
   ]
  },
  {
   "cell_type": "code",
   "execution_count": 358,
   "metadata": {
    "hidden": true
   },
   "outputs": [
    {
     "data": {
      "text/plain": [
       "<__main__.Node instance at 0x7fabec0245a8>"
      ]
     },
     "execution_count": 358,
     "metadata": {},
     "output_type": "execute_result"
    }
   ],
   "source": [
    "btree_ask.find(10.01)"
   ]
  },
  {
   "cell_type": "code",
   "execution_count": 359,
   "metadata": {
    "hidden": true
   },
   "outputs": [],
   "source": [
    "btree_ask.remove(10.01)"
   ]
  },
  {
   "cell_type": "code",
   "execution_count": 360,
   "metadata": {
    "hidden": true
   },
   "outputs": [
    {
     "data": {
      "text/plain": [
       "<__main__.Node instance at 0x7fabec0245a8>"
      ]
     },
     "execution_count": 360,
     "metadata": {},
     "output_type": "execute_result"
    }
   ],
   "source": [
    "btree_ask.find(10.01)"
   ]
  },
  {
   "cell_type": "code",
   "execution_count": null,
   "metadata": {
    "hidden": true
   },
   "outputs": [],
   "source": []
  },
  {
   "cell_type": "code",
   "execution_count": null,
   "metadata": {
    "hidden": true
   },
   "outputs": [],
   "source": []
  },
  {
   "cell_type": "code",
   "execution_count": null,
   "metadata": {
    "hidden": true
   },
   "outputs": [],
   "source": []
  },
  {
   "cell_type": "code",
   "execution_count": 335,
   "metadata": {
    "hidden": true
   },
   "outputs": [
    {
     "data": {
      "text/plain": [
       "[10.01, 10.05]"
      ]
     },
     "execution_count": 335,
     "metadata": {},
     "output_type": "execute_result"
    }
   ],
   "source": [
    "btree_ask.as_list(1)"
   ]
  },
  {
   "cell_type": "code",
   "execution_count": null,
   "metadata": {
    "hidden": true
   },
   "outputs": [],
   "source": []
  },
  {
   "cell_type": "code",
   "execution_count": null,
   "metadata": {
    "hidden": true
   },
   "outputs": [],
   "source": []
  },
  {
   "cell_type": "code",
   "execution_count": 317,
   "metadata": {
    "hidden": true
   },
   "outputs": [
    {
     "data": {
      "text/plain": [
       "{10.05: deque([['4', 1000]])}"
      ]
     },
     "execution_count": 317,
     "metadata": {},
     "output_type": "execute_result"
    }
   ],
   "source": [
    "ask_hash"
   ]
  },
  {
   "cell_type": "code",
   "execution_count": 313,
   "metadata": {
    "hidden": true
   },
   "outputs": [
    {
     "data": {
      "text/plain": [
       "10.01"
      ]
     },
     "execution_count": 313,
     "metadata": {},
     "output_type": "execute_result"
    }
   ],
   "source": [
    "price_now"
   ]
  },
  {
   "cell_type": "code",
   "execution_count": null,
   "metadata": {
    "hidden": true
   },
   "outputs": [],
   "source": []
  },
  {
   "cell_type": "code",
   "execution_count": null,
   "metadata": {
    "hidden": true
   },
   "outputs": [],
   "source": []
  },
  {
   "cell_type": "code",
   "execution_count": null,
   "metadata": {
    "hidden": true
   },
   "outputs": [],
   "source": []
  },
  {
   "cell_type": "code",
   "execution_count": 290,
   "metadata": {
    "hidden": true
   },
   "outputs": [],
   "source": [
    "i = i + 1"
   ]
  },
  {
   "cell_type": "code",
   "execution_count": 291,
   "metadata": {
    "hidden": true
   },
   "outputs": [],
   "source": [
    "\n",
    "line_now = list_of_lines[i]\n",
    "splited_line = line_now.split(\" \")\n",
    "\n",
    "time_stamp = splited_line[0]\n",
    "id_now = splited_line[1]\n",
    "buy_or_sell = splited_line[2]\n",
    "amount = int(splited_line[3])\n",
    "limit_or_market = splited_line[4]\n",
    "limit_price = float(splited_line[5])\n",
    "\n",
    "limit_or_market_original = limit_or_market\n",
    "\n",
    "if limit_or_market == \"m\":\n",
    "    \"\"\"if it is market order, just consider it as a limit order with 0\n",
    "    limit price for buy and infinite limit price for sell\"\"\"\n",
    "    limit_or_market = \"l\"\n",
    "    if buy_or_sell == \"b\":\n",
    "        limit_price = 0\n",
    "    if buy_or_sell  == \"s\":\n",
    "        limit_price = float(\"infinity\")\n",
    "\n",
    "\n",
    "\n"
   ]
  },
  {
   "cell_type": "code",
   "execution_count": 292,
   "metadata": {
    "hidden": true
   },
   "outputs": [
    {
     "name": "stdout",
     "output_type": "stream",
     "text": [
      "here\n"
     ]
    }
   ],
   "source": [
    "    if limit_or_market == \"l\":\n",
    "        if buy_or_sell == \"b\":\n",
    "            print \"here\"\n",
    "            \"\"\"look into btree_ask\"\"\"\n",
    "            order_remaining = amount\n",
    "            \"\"\"firstly see if any amount can be filled \"\"\"\n",
    "    #         condition_that_the_order_cannot_be_filled_at_all = btree_ask.find(limit_price) == None and btree_ask.find_closest_to_the_right_strict_value_only(limit_price) == None:        \n",
    "    #         node_for_limit_price = btree_ask.find(limit_price)\n",
    "    #         if node_for_limit_price:\n",
    "            price_now = None\n",
    "\n"
   ]
  },
  {
   "cell_type": "code",
   "execution_count": 293,
   "metadata": {
    "hidden": true
   },
   "outputs": [],
   "source": [
    "            if btree_ask.find(limit_price):\n",
    "                price_now = limit_price\n",
    "            else:\n",
    "                node_now = btree_ask.find_closest_to_the_right_strict_value_only(limit_price)\n",
    "                if node_now:\n",
    "                    price_now = node_now.value\n",
    "\n"
   ]
  },
  {
   "cell_type": "code",
   "execution_count": 294,
   "metadata": {
    "hidden": true
   },
   "outputs": [
    {
     "data": {
      "text/plain": [
       "10.01"
      ]
     },
     "execution_count": 294,
     "metadata": {},
     "output_type": "execute_result"
    }
   ],
   "source": [
    "price_now"
   ]
  },
  {
   "cell_type": "code",
   "execution_count": 295,
   "metadata": {
    "hidden": true
   },
   "outputs": [
    {
     "data": {
      "text/plain": [
       "True"
      ]
     },
     "execution_count": 295,
     "metadata": {},
     "output_type": "execute_result"
    }
   ],
   "source": [
    "price_now != None and order_remaining>0"
   ]
  },
  {
   "cell_type": "code",
   "execution_count": 296,
   "metadata": {
    "hidden": true
   },
   "outputs": [],
   "source": [
    "ask_hash_value_deque_now = ask_hash[price_now]\n",
    "\n"
   ]
  },
  {
   "cell_type": "code",
   "execution_count": 297,
   "metadata": {
    "hidden": true
   },
   "outputs": [
    {
     "data": {
      "text/plain": [
       "deque([['3', 100]])"
      ]
     },
     "execution_count": 297,
     "metadata": {},
     "output_type": "execute_result"
    }
   ],
   "source": [
    "ask_hash_value_deque_now"
   ]
  },
  {
   "cell_type": "code",
   "execution_count": 298,
   "metadata": {
    "hidden": true
   },
   "outputs": [
    {
     "name": "stdout",
     "output_type": "stream",
     "text": [
      "09:41:00 5 3 10.01 100\n"
     ]
    }
   ],
   "source": [
    "the_id_amount_to_examine = ask_hash_value_deque_now[0]\n",
    "id_in_the_book = the_id_amount_to_examine[0]\n",
    "amount_in_the_book = the_id_amount_to_examine[1]\n",
    "amount_filled = min(order_remaining,amount_in_the_book)\n",
    "order_remaining = order_remaining - amount_filled\n",
    "string_tmp = time_stamp + \" \" + id_now + \" \" + id_in_the_book + \" \" + (\"%.2f\" % price_now) + \" \" + str(amount_filled)  \n",
    "string_to_print += string_tmp\n",
    "print string_tmp\n",
    "\n"
   ]
  },
  {
   "cell_type": "code",
   "execution_count": null,
   "metadata": {
    "hidden": true
   },
   "outputs": [],
   "source": []
  },
  {
   "cell_type": "code",
   "execution_count": null,
   "metadata": {
    "hidden": true
   },
   "outputs": [],
   "source": []
  },
  {
   "cell_type": "code",
   "execution_count": null,
   "metadata": {
    "hidden": true
   },
   "outputs": [],
   "source": []
  },
  {
   "cell_type": "code",
   "execution_count": null,
   "metadata": {
    "hidden": true
   },
   "outputs": [],
   "source": []
  },
  {
   "cell_type": "code",
   "execution_count": 262,
   "metadata": {
    "hidden": true
   },
   "outputs": [],
   "source": [
    "btree_ask.find(limit_price)"
   ]
  },
  {
   "cell_type": "code",
   "execution_count": null,
   "metadata": {
    "hidden": true
   },
   "outputs": [],
   "source": []
  },
  {
   "cell_type": "code",
   "execution_count": null,
   "metadata": {
    "hidden": true
   },
   "outputs": [],
   "source": []
  },
  {
   "cell_type": "code",
   "execution_count": null,
   "metadata": {
    "hidden": true
   },
   "outputs": [],
   "source": []
  },
  {
   "cell_type": "code",
   "execution_count": 265,
   "metadata": {
    "hidden": true
   },
   "outputs": [
    {
     "data": {
      "text/plain": [
       "{9.95: deque([['2', 1000]]), 9.99: deque([['1', 100]])}"
      ]
     },
     "execution_count": 265,
     "metadata": {},
     "output_type": "execute_result"
    }
   ],
   "source": [
    "bid_hash"
   ]
  },
  {
   "cell_type": "code",
   "execution_count": 266,
   "metadata": {
    "hidden": true
   },
   "outputs": [
    {
     "data": {
      "text/plain": [
       "[9.95, 9.99]"
      ]
     },
     "execution_count": 266,
     "metadata": {},
     "output_type": "execute_result"
    }
   ],
   "source": [
    "btree_bid.as_list(1)"
   ]
  },
  {
   "cell_type": "code",
   "execution_count": 267,
   "metadata": {
    "hidden": true
   },
   "outputs": [
    {
     "data": {
      "text/plain": [
       "{10.01: deque([['3', 100]]), 10.05: deque([['4', 1000]])}"
      ]
     },
     "execution_count": 267,
     "metadata": {},
     "output_type": "execute_result"
    }
   ],
   "source": [
    "ask_hash"
   ]
  },
  {
   "cell_type": "code",
   "execution_count": 268,
   "metadata": {
    "hidden": true
   },
   "outputs": [
    {
     "data": {
      "text/plain": [
       "[10.01, 10.05]"
      ]
     },
     "execution_count": 268,
     "metadata": {},
     "output_type": "execute_result"
    }
   ],
   "source": [
    "btree_ask.as_list(1)"
   ]
  },
  {
   "cell_type": "code",
   "execution_count": null,
   "metadata": {
    "hidden": true
   },
   "outputs": [],
   "source": []
  },
  {
   "cell_type": "markdown",
   "metadata": {
    "heading_collapsed": true
   },
   "source": [
    "# debug history"
   ]
  },
  {
   "cell_type": "code",
   "execution_count": 265,
   "metadata": {
    "hidden": true
   },
   "outputs": [
    {
     "data": {
      "text/plain": [
       "{9.95: deque([['2', 1000]]), 9.99: deque([['1', 100]])}"
      ]
     },
     "execution_count": 265,
     "metadata": {},
     "output_type": "execute_result"
    }
   ],
   "source": [
    "bid_hash"
   ]
  },
  {
   "cell_type": "code",
   "execution_count": 266,
   "metadata": {
    "hidden": true
   },
   "outputs": [
    {
     "data": {
      "text/plain": [
       "[9.95, 9.99]"
      ]
     },
     "execution_count": 266,
     "metadata": {},
     "output_type": "execute_result"
    }
   ],
   "source": [
    "btree_bid.as_list(1)"
   ]
  },
  {
   "cell_type": "code",
   "execution_count": 267,
   "metadata": {
    "hidden": true
   },
   "outputs": [
    {
     "data": {
      "text/plain": [
       "{10.01: deque([['3', 100]]), 10.05: deque([['4', 1000]])}"
      ]
     },
     "execution_count": 267,
     "metadata": {},
     "output_type": "execute_result"
    }
   ],
   "source": [
    "ask_hash"
   ]
  },
  {
   "cell_type": "code",
   "execution_count": 268,
   "metadata": {
    "hidden": true
   },
   "outputs": [
    {
     "data": {
      "text/plain": [
       "[10.01, 10.05]"
      ]
     },
     "execution_count": 268,
     "metadata": {},
     "output_type": "execute_result"
    }
   ],
   "source": [
    "btree_ask.as_list(1)"
   ]
  },
  {
   "cell_type": "code",
   "execution_count": null,
   "metadata": {
    "hidden": true
   },
   "outputs": [],
   "source": []
  },
  {
   "cell_type": "code",
   "execution_count": null,
   "metadata": {
    "hidden": true
   },
   "outputs": [],
   "source": []
  },
  {
   "cell_type": "code",
   "execution_count": null,
   "metadata": {
    "hidden": true
   },
   "outputs": [],
   "source": []
  },
  {
   "cell_type": "code",
   "execution_count": null,
   "metadata": {
    "hidden": true
   },
   "outputs": [],
   "source": []
  },
  {
   "cell_type": "code",
   "execution_count": 206,
   "metadata": {
    "hidden": true
   },
   "outputs": [],
   "source": [
    "splited_line = line_now.split(\" \")"
   ]
  },
  {
   "cell_type": "code",
   "execution_count": 207,
   "metadata": {
    "hidden": true
   },
   "outputs": [],
   "source": [
    "time_stamp = splited_line[0]\n",
    "id_now = splited_line[1]\n",
    "buy_or_sell = splited_line[2]\n",
    "amount = int(splited_line[3])\n",
    "limit_or_market = splited_line[4]\n",
    "limit_price = float(splited_line[5])"
   ]
  },
  {
   "cell_type": "code",
   "execution_count": 208,
   "metadata": {
    "hidden": true
   },
   "outputs": [],
   "source": [
    "limit_or_market_original = limit_or_market"
   ]
  },
  {
   "cell_type": "code",
   "execution_count": 215,
   "metadata": {
    "hidden": true
   },
   "outputs": [],
   "source": [
    "if limit_or_market == \"m\":\n",
    "    \"\"\"if it is market order, just consider it as a limit order with 0\n",
    "    limit price for buy and infinite limit price for sell\"\"\"\n",
    "    limit_or_market = \"l\"\n",
    "    if buy_or_sell == \"b\":\n",
    "        limit_price = 0\n",
    "    if buy_or_sell  == \"s\":\n",
    "        limit_price = float(\"infinity\")\n",
    "\n",
    "\n",
    "\n",
    "if limit_or_market == \"l\":\n",
    "    if buy_or_sell == \"b\":\n",
    "        print \"here\"\n",
    "        \"\"\"look into btree_ask\"\"\"\n",
    "        order_remaining = amount\n",
    "        \"\"\"firstly see if any amount can be filled \"\"\"\n",
    "#         condition_that_the_order_cannot_be_filled_at_all = btree_ask.find(limit_price) == None and btree_ask.find_closest_to_the_right_strict_value_only(limit_price) == None:        \n",
    "#         node_for_limit_price = btree_ask.find(limit_price)\n",
    "#         if node_for_limit_price:\n",
    "        price_now = None\n",
    "        if btree_ask.find(limit_price):\n",
    "            price_now = limit_price\n",
    "        else:\n",
    "            node_now = btree_ask.find_closest_to_the_right_strict_value_only(limit_price)\n",
    "            if node_now:\n",
    "                price_now = node_now.value\n",
    "\n",
    "        while price_now != None and order_remaining>0:\n",
    "            bid_hash_value_deque_now = bid_hash[limit_price]\n",
    "            while len(bid_hash_value_deque_now)>0 and order_remaining>0:\n",
    "                the_id_amount_to_examine = bid_hash_value_deque_now[0]\n",
    "                id_in_the_book = the_id_amount_to_examine[0]\n",
    "                amount_in_the_book = the_id_amount_to_examine[1]\n",
    "                amount_filled = min(order_remaining,amount_in_the_book)\n",
    "                order_remaining = order_remaining - amount_filled\n",
    "                string_tmp = time_stamp + \" \" + id_now + \" \" + id_in_the_book + \" \" + (\"%.2f\" % price_now) + \" \" + str(amount_filled)  \n",
    "                string_to_print += string_tmp\n",
    "                print string_tmp\n",
    "                if amount_filled == amount_in_the_book:\n",
    "                    bid_hash_value_deque_now.deque_tmp.popleft()\n",
    "                    if len(bid_hash_value_deque_now) == 0 :\n",
    "                        btree_ask.remove(price_now)\n",
    "                        ask_hash.remove(price_now)\n",
    "                else:\n",
    "                    bid_hash_value_deque_now[0][1] = amount_in_the_book - amount_filled\n",
    "            price_now = None\n",
    "            if btree_ask.find(limit_price):\n",
    "                price_now = limit_price\n",
    "            else:\n",
    "                price_now = btree_ask.find_closest_to_the_right_strict_value_only(limit_price).value\n",
    "               \n",
    "        \"\"\"post buy order in btree_bid\"\"\" \n",
    "        if limit_or_market_original == \"l\":\n",
    "            if order_remaining > 0:\n",
    "                btree_bid.insert(limit_price)\n",
    "                if limit_price in bid_hash:\n",
    "                    bid_hash[limit_price].append([id_now,order_remaining])\n",
    "                else:\n",
    "                    bid_hash[limit_price] = deque()\n",
    "                    bid_hash[limit_price].append([id_now,order_remaining])        \n",
    "        \n",
    "        \n",
    "        \n",
    "    if buy_or_sell == \"s\":\n",
    "        order_remaining = amount\n",
    "\n",
    "        \n",
    "        \"\"\"post sell order in btree_ask\"\"\" \n",
    "        if limit_or_market_original == \"l\":\n",
    "            if order_remaining > 0:\n",
    "                btree_ask.insert(limit_price)\n",
    "                if limit_price in bid_hash:\n",
    "                    ask_hash[limit_price].append([id_now,order_remaining])\n",
    "                else:\n",
    "                    ask_hash[limit_price] = deque()\n",
    "                    ask_hash[limit_price].append([id_now,order_remaining])        \n",
    "\n",
    "    \n",
    "    \n",
    "    "
   ]
  },
  {
   "cell_type": "code",
   "execution_count": null,
   "metadata": {
    "hidden": true
   },
   "outputs": [],
   "source": []
  },
  {
   "cell_type": "code",
   "execution_count": null,
   "metadata": {
    "hidden": true
   },
   "outputs": [],
   "source": []
  },
  {
   "cell_type": "code",
   "execution_count": 178,
   "metadata": {
    "hidden": true
   },
   "outputs": [
    {
     "data": {
      "text/plain": [
       "[9.99, 100.0]"
      ]
     },
     "execution_count": 178,
     "metadata": {},
     "output_type": "execute_result"
    }
   ],
   "source": [
    "btree_bid.as_list(1)"
   ]
  },
  {
   "cell_type": "code",
   "execution_count": 179,
   "metadata": {
    "hidden": true
   },
   "outputs": [
    {
     "data": {
      "text/plain": [
       "{9.99: deque([['1', 100.0], ['1', 100.0]])}"
      ]
     },
     "execution_count": 179,
     "metadata": {},
     "output_type": "execute_result"
    }
   ],
   "source": [
    "bid_hash"
   ]
  },
  {
   "cell_type": "code",
   "execution_count": 158,
   "metadata": {
    "hidden": true
   },
   "outputs": [
    {
     "data": {
      "text/plain": [
       "[]"
      ]
     },
     "execution_count": 158,
     "metadata": {},
     "output_type": "execute_result"
    }
   ],
   "source": [
    "btree_ask.as_list(1)"
   ]
  },
  {
   "cell_type": "code",
   "execution_count": 159,
   "metadata": {
    "hidden": true
   },
   "outputs": [],
   "source": [
    "btree_ask.insert(2)"
   ]
  },
  {
   "cell_type": "code",
   "execution_count": 163,
   "metadata": {
    "hidden": true
   },
   "outputs": [],
   "source": [
    "node_now = btree_ask.find_closest_to_the_right_strict_value_only(1.99).value"
   ]
  },
  {
   "cell_type": "code",
   "execution_count": 164,
   "metadata": {
    "hidden": true
   },
   "outputs": [
    {
     "data": {
      "text/plain": [
       "2"
      ]
     },
     "execution_count": 164,
     "metadata": {},
     "output_type": "execute_result"
    }
   ],
   "source": [
    "node_now.value"
   ]
  },
  {
   "cell_type": "code",
   "execution_count": 100,
   "metadata": {
    "hidden": true
   },
   "outputs": [
    {
     "data": {
      "text/plain": [
       "True"
      ]
     },
     "execution_count": 100,
     "metadata": {},
     "output_type": "execute_result"
    }
   ],
   "source": [
    "btree_ask.root == None"
   ]
  },
  {
   "cell_type": "code",
   "execution_count": null,
   "metadata": {
    "hidden": true
   },
   "outputs": [],
   "source": [
    "\"\"\""
   ]
  },
  {
   "cell_type": "code",
   "execution_count": null,
   "metadata": {
    "hidden": true
   },
   "outputs": [],
   "source": [
    "        \"\"\"post buy order in btree_bid\"\"\" \n",
    "        \n",
    "\n"
   ]
  },
  {
   "cell_type": "code",
   "execution_count": 120,
   "metadata": {
    "hidden": true
   },
   "outputs": [],
   "source": [
    "btree_bid.insert(limit_price)\n",
    "        "
   ]
  },
  {
   "cell_type": "code",
   "execution_count": 118,
   "metadata": {
    "hidden": true
   },
   "outputs": [],
   "source": [
    "if limit_price in bid_hash:\n",
    "    bid_hash[limit_price].append([id_now,order_remaining])\n",
    "else:\n",
    "    bid_hash[limit_price] = deque()\n",
    "    bid_hash[limit_price].append([id_now,order_remaining])"
   ]
  },
  {
   "cell_type": "code",
   "execution_count": null,
   "metadata": {
    "hidden": true
   },
   "outputs": [],
   "source": []
  },
  {
   "cell_type": "code",
   "execution_count": null,
   "metadata": {
    "hidden": true
   },
   "outputs": [],
   "source": []
  },
  {
   "cell_type": "code",
   "execution_count": 129,
   "metadata": {
    "hidden": true
   },
   "outputs": [],
   "source": [
    "deque_tmp = deque()"
   ]
  },
  {
   "cell_type": "code",
   "execution_count": 130,
   "metadata": {
    "hidden": true
   },
   "outputs": [],
   "source": [
    "deque_tmp.append([id_now,order_remaining])"
   ]
  },
  {
   "cell_type": "code",
   "execution_count": 131,
   "metadata": {
    "hidden": true
   },
   "outputs": [],
   "source": [
    "deque_tmp[0][1] = 20"
   ]
  },
  {
   "cell_type": "code",
   "execution_count": 132,
   "metadata": {
    "hidden": true
   },
   "outputs": [
    {
     "data": {
      "text/plain": [
       "deque([['1', 20]])"
      ]
     },
     "execution_count": 132,
     "metadata": {},
     "output_type": "execute_result"
    }
   ],
   "source": [
    "deque_tmp"
   ]
  },
  {
   "cell_type": "code",
   "execution_count": null,
   "metadata": {
    "hidden": true
   },
   "outputs": [],
   "source": []
  },
  {
   "cell_type": "code",
   "execution_count": null,
   "metadata": {
    "hidden": true
   },
   "outputs": [],
   "source": []
  },
  {
   "cell_type": "code",
   "execution_count": null,
   "metadata": {
    "hidden": true
   },
   "outputs": [],
   "source": []
  },
  {
   "cell_type": "code",
   "execution_count": null,
   "metadata": {
    "hidden": true
   },
   "outputs": [],
   "source": []
  },
  {
   "cell_type": "code",
   "execution_count": null,
   "metadata": {
    "hidden": true
   },
   "outputs": [],
   "source": []
  },
  {
   "cell_type": "code",
   "execution_count": 112,
   "metadata": {
    "hidden": true
   },
   "outputs": [
    {
     "name": "stdout",
     "output_type": "stream",
     "text": [
      "2\n"
     ]
    }
   ],
   "source": [
    "if btree_ask.find(limit_price) == None:\n",
    "    print 2"
   ]
  },
  {
   "cell_type": "code",
   "execution_count": 116,
   "metadata": {
    "hidden": true
   },
   "outputs": [
    {
     "data": {
      "text/plain": [
       "100.0"
      ]
     },
     "execution_count": 116,
     "metadata": {},
     "output_type": "execute_result"
    }
   ],
   "source": [
    "order_remaining"
   ]
  },
  {
   "cell_type": "code",
   "execution_count": 115,
   "metadata": {
    "hidden": true
   },
   "outputs": [
    {
     "name": "stdout",
     "output_type": "stream",
     "text": [
      "2\n"
     ]
    }
   ],
   "source": [
    "if btree_ask.find_closest_to_the_right_strict_value_only(limit_price) == None:\n",
    "    print 2"
   ]
  },
  {
   "cell_type": "code",
   "execution_count": null,
   "metadata": {
    "hidden": true
   },
   "outputs": [],
   "source": [
    "        if btree_ask.root == None:\n",
    "           to_fill_bid_book = True\n",
    "\n"
   ]
  },
  {
   "cell_type": "code",
   "execution_count": null,
   "metadata": {
    "hidden": true
   },
   "outputs": [],
   "source": [
    "btree_ask"
   ]
  },
  {
   "cell_type": "code",
   "execution_count": null,
   "metadata": {
    "hidden": true
   },
   "outputs": [],
   "source": [
    "btree_ask.fi"
   ]
  },
  {
   "cell_type": "code",
   "execution_count": null,
   "metadata": {
    "hidden": true
   },
   "outputs": [],
   "source": []
  },
  {
   "cell_type": "code",
   "execution_count": null,
   "metadata": {
    "hidden": true
   },
   "outputs": [],
   "source": []
  },
  {
   "cell_type": "code",
   "execution_count": null,
   "metadata": {
    "hidden": true
   },
   "outputs": [],
   "source": []
  },
  {
   "cell_type": "code",
   "execution_count": null,
   "metadata": {
    "hidden": true
   },
   "outputs": [],
   "source": []
  },
  {
   "cell_type": "code",
   "execution_count": null,
   "metadata": {
    "hidden": true
   },
   "outputs": [],
   "source": []
  },
  {
   "cell_type": "code",
   "execution_count": 94,
   "metadata": {
    "hidden": true
   },
   "outputs": [],
   "source": [
    "if limit_or_market == \"m\":\n",
    "    pass"
   ]
  },
  {
   "cell_type": "code",
   "execution_count": null,
   "metadata": {
    "hidden": true
   },
   "outputs": [],
   "source": []
  },
  {
   "cell_type": "code",
   "execution_count": null,
   "metadata": {
    "hidden": true
   },
   "outputs": [],
   "source": []
  },
  {
   "cell_type": "code",
   "execution_count": null,
   "metadata": {
    "hidden": true
   },
   "outputs": [],
   "source": []
  },
  {
   "cell_type": "code",
   "execution_count": null,
   "metadata": {
    "hidden": true
   },
   "outputs": [],
   "source": [
    "btree_now.insert()"
   ]
  },
  {
   "cell_type": "code",
   "execution_count": null,
   "metadata": {
    "hidden": true
   },
   "outputs": [],
   "source": []
  },
  {
   "cell_type": "code",
   "execution_count": null,
   "metadata": {
    "hidden": true
   },
   "outputs": [],
   "source": []
  },
  {
   "cell_type": "code",
   "execution_count": null,
   "metadata": {
    "hidden": true
   },
   "outputs": [],
   "source": []
  },
  {
   "cell_type": "code",
   "execution_count": null,
   "metadata": {
    "hidden": true
   },
   "outputs": [],
   "source": []
  },
  {
   "cell_type": "code",
   "execution_count": null,
   "metadata": {
    "hidden": true
   },
   "outputs": [],
   "source": []
  },
  {
   "cell_type": "code",
   "execution_count": 62,
   "metadata": {
    "hidden": true
   },
   "outputs": [
    {
     "data": {
      "text/plain": [
       "5"
      ]
     },
     "execution_count": 62,
     "metadata": {},
     "output_type": "execute_result"
    }
   ],
   "source": [
    "input_1"
   ]
  },
  {
   "cell_type": "code",
   "execution_count": 63,
   "metadata": {
    "hidden": true
   },
   "outputs": [
    {
     "data": {
      "text/plain": [
       "'09:41:00 5 b 200 m -1.00'"
      ]
     },
     "execution_count": 63,
     "metadata": {},
     "output_type": "execute_result"
    }
   ],
   "source": [
    "input_2"
   ]
  },
  {
   "cell_type": "code",
   "execution_count": 64,
   "metadata": {
    "hidden": true
   },
   "outputs": [
    {
     "data": {
      "text/plain": [
       "['09:41:00', '5', 'b', '200', 'm', '-1.00']"
      ]
     },
     "execution_count": 64,
     "metadata": {},
     "output_type": "execute_result"
    }
   ],
   "source": [
    "input_2.split(\" \")"
   ]
  },
  {
   "cell_type": "code",
   "execution_count": null,
   "metadata": {
    "hidden": true
   },
   "outputs": [],
   "source": []
  },
  {
   "cell_type": "code",
   "execution_count": null,
   "metadata": {
    "hidden": true
   },
   "outputs": [],
   "source": []
  },
  {
   "cell_type": "code",
   "execution_count": null,
   "metadata": {
    "hidden": true
   },
   "outputs": [],
   "source": []
  },
  {
   "cell_type": "code",
   "execution_count": null,
   "metadata": {
    "hidden": true
   },
   "outputs": [],
   "source": []
  },
  {
   "cell_type": "code",
   "execution_count": null,
   "metadata": {
    "hidden": true
   },
   "outputs": [],
   "source": []
  },
  {
   "cell_type": "code",
   "execution_count": null,
   "metadata": {
    "hidden": true
   },
   "outputs": [],
   "source": []
  },
  {
   "cell_type": "markdown",
   "metadata": {
    "heading_collapsed": true
   },
   "source": [
    "# Q1"
   ]
  },
  {
   "cell_type": "code",
   "execution_count": 28,
   "metadata": {
    "hidden": true
   },
   "outputs": [],
   "source": [
    "#!/bin/python\n",
    "\n",
    "import math\n",
    "import os\n",
    "import random\n",
    "import re\n",
    "import sys\n",
    "\n"
   ]
  },
  {
   "cell_type": "code",
   "execution_count": null,
   "metadata": {
    "hidden": true
   },
   "outputs": [],
   "source": [
    "# fptr = open(os.environ['OUTPUT_PATH'], 'w')\n",
    "\n",
    "arr_count = int(raw_input().strip())\n",
    "\n",
    "arr = []\n",
    "\n",
    "for _ in xrange(arr_count):\n",
    "    arr_item = int(raw_input().strip())\n",
    "    arr.append(arr_item)\n",
    "\n",
    "k = int(raw_input().strip())"
   ]
  },
  {
   "cell_type": "code",
   "execution_count": 30,
   "metadata": {
    "hidden": true
   },
   "outputs": [
    {
     "name": "stdout",
     "output_type": "stream",
     "text": [
      "3\n",
      "2\n",
      "3\n",
      "1\n",
      "5\n"
     ]
    },
    {
     "ename": "NameError",
     "evalue": "name 'findNumber' is not defined",
     "output_type": "error",
     "traceback": [
      "\u001b[0;31m---------------------------------------------------------------------------\u001b[0m",
      "\u001b[0;31mNameError\u001b[0m                                 Traceback (most recent call last)",
      "\u001b[0;32m<ipython-input-30-05db7a8bf85e>\u001b[0m in \u001b[0;36m<module>\u001b[0;34m()\u001b[0m\n\u001b[1;32m     11\u001b[0m \u001b[0mk\u001b[0m \u001b[0;34m=\u001b[0m \u001b[0mint\u001b[0m\u001b[0;34m(\u001b[0m\u001b[0mraw_input\u001b[0m\u001b[0;34m(\u001b[0m\u001b[0;34m)\u001b[0m\u001b[0;34m.\u001b[0m\u001b[0mstrip\u001b[0m\u001b[0;34m(\u001b[0m\u001b[0;34m)\u001b[0m\u001b[0;34m)\u001b[0m\u001b[0;34m\u001b[0m\u001b[0m\n\u001b[1;32m     12\u001b[0m \u001b[0;34m\u001b[0m\u001b[0m\n\u001b[0;32m---> 13\u001b[0;31m \u001b[0mres\u001b[0m \u001b[0;34m=\u001b[0m \u001b[0mfindNumber\u001b[0m\u001b[0;34m(\u001b[0m\u001b[0marr\u001b[0m\u001b[0;34m,\u001b[0m \u001b[0mk\u001b[0m\u001b[0;34m)\u001b[0m\u001b[0;34m\u001b[0m\u001b[0m\n\u001b[0m\u001b[1;32m     14\u001b[0m \u001b[0;34m\u001b[0m\u001b[0m\n\u001b[1;32m     15\u001b[0m \u001b[0mfptr\u001b[0m\u001b[0;34m.\u001b[0m\u001b[0mwrite\u001b[0m\u001b[0;34m(\u001b[0m\u001b[0mres\u001b[0m \u001b[0;34m+\u001b[0m \u001b[0;34m'\\n'\u001b[0m\u001b[0;34m)\u001b[0m\u001b[0;34m\u001b[0m\u001b[0m\n",
      "\u001b[0;31mNameError\u001b[0m: name 'findNumber' is not defined"
     ]
    }
   ],
   "source": []
  },
  {
   "cell_type": "code",
   "execution_count": 33,
   "metadata": {
    "hidden": true
   },
   "outputs": [],
   "source": [
    "if k in arr:\n",
    "    print \"YES\""
   ]
  },
  {
   "cell_type": "code",
   "execution_count": 39,
   "metadata": {
    "hidden": true
   },
   "outputs": [],
   "source": [
    "def findNumber(arr, k):\n",
    "    if k in arr:\n",
    "        print \"YES\"\n",
    "        return \"YES\"\n",
    "    else:\n",
    "        print \"NO\"\n",
    "        return \"NO\""
   ]
  },
  {
   "cell_type": "code",
   "execution_count": 40,
   "metadata": {
    "hidden": true
   },
   "outputs": [
    {
     "data": {
      "text/plain": [
       "[2, 3, 1]"
      ]
     },
     "execution_count": 40,
     "metadata": {},
     "output_type": "execute_result"
    }
   ],
   "source": [
    "arr"
   ]
  },
  {
   "cell_type": "code",
   "execution_count": 41,
   "metadata": {
    "hidden": true
   },
   "outputs": [
    {
     "data": {
      "text/plain": [
       "5"
      ]
     },
     "execution_count": 41,
     "metadata": {},
     "output_type": "execute_result"
    }
   ],
   "source": [
    "k"
   ]
  },
  {
   "cell_type": "code",
   "execution_count": 42,
   "metadata": {
    "hidden": true
   },
   "outputs": [
    {
     "name": "stdout",
     "output_type": "stream",
     "text": [
      "NO\n"
     ]
    }
   ],
   "source": [
    "res = findNumber(arr, k)"
   ]
  },
  {
   "cell_type": "code",
   "execution_count": null,
   "metadata": {
    "hidden": true
   },
   "outputs": [],
   "source": []
  },
  {
   "cell_type": "code",
   "execution_count": null,
   "metadata": {
    "hidden": true
   },
   "outputs": [],
   "source": []
  },
  {
   "cell_type": "code",
   "execution_count": null,
   "metadata": {
    "hidden": true
   },
   "outputs": [],
   "source": [
    "fptr.write(res + '\\n')\n",
    "\n",
    "fptr.close()"
   ]
  },
  {
   "cell_type": "code",
   "execution_count": null,
   "metadata": {
    "hidden": true
   },
   "outputs": [],
   "source": []
  },
  {
   "cell_type": "markdown",
   "metadata": {
    "heading_collapsed": true
   },
   "source": [
    "# Q2"
   ]
  },
  {
   "cell_type": "code",
   "execution_count": 43,
   "metadata": {
    "hidden": true
   },
   "outputs": [
    {
     "name": "stdout",
     "output_type": "stream",
     "text": [
      "3\n",
      "9\n"
     ]
    }
   ],
   "source": [
    "    l = int(raw_input().strip())\n",
    "\n",
    "    r = int(raw_input().strip())\n"
   ]
  },
  {
   "cell_type": "code",
   "execution_count": 59,
   "metadata": {
    "hidden": true
   },
   "outputs": [],
   "source": [
    "def oddNumbers(l, r):\n",
    "    if l%2 == 1 :\n",
    "        #i is odd\n",
    "        array = range(l,r+1,2)\n",
    "    else:\n",
    "        array = range(l+1,r+1,2)\n",
    "\n",
    "\n",
    "    return array"
   ]
  },
  {
   "cell_type": "code",
   "execution_count": 50,
   "metadata": {
    "hidden": true
   },
   "outputs": [],
   "source": []
  },
  {
   "cell_type": "code",
   "execution_count": null,
   "metadata": {
    "hidden": true
   },
   "outputs": [],
   "source": []
  },
  {
   "cell_type": "code",
   "execution_count": 57,
   "metadata": {
    "hidden": true
   },
   "outputs": [],
   "source": []
  },
  {
   "cell_type": "code",
   "execution_count": null,
   "metadata": {
    "hidden": true
   },
   "outputs": [],
   "source": [
    "initial = i"
   ]
  },
  {
   "cell_type": "code",
   "execution_count": 58,
   "metadata": {
    "hidden": true
   },
   "outputs": [
    {
     "data": {
      "text/plain": [
       "[3, 5, 7, 9]"
      ]
     },
     "execution_count": 58,
     "metadata": {},
     "output_type": "execute_result"
    }
   ],
   "source": [
    "array"
   ]
  },
  {
   "cell_type": "code",
   "execution_count": 56,
   "metadata": {
    "hidden": true
   },
   "outputs": [
    {
     "data": {
      "text/plain": [
       "[3, 5, 7, 9]"
      ]
     },
     "execution_count": 56,
     "metadata": {},
     "output_type": "execute_result"
    }
   ],
   "source": []
  },
  {
   "cell_type": "code",
   "execution_count": 51,
   "metadata": {
    "hidden": true
   },
   "outputs": [
    {
     "data": {
      "text/plain": [
       "1"
      ]
     },
     "execution_count": 51,
     "metadata": {},
     "output_type": "execute_result"
    }
   ],
   "source": [
    "l%2"
   ]
  },
  {
   "cell_type": "code",
   "execution_count": 48,
   "metadata": {
    "hidden": true
   },
   "outputs": [
    {
     "name": "stdout",
     "output_type": "stream",
     "text": [
      "3\n",
      "4\n",
      "5\n",
      "6\n",
      "7\n",
      "8\n"
     ]
    }
   ],
   "source": [
    "for i in range(3,9):\n",
    "    print i"
   ]
  },
  {
   "cell_type": "code",
   "execution_count": 49,
   "metadata": {
    "hidden": true
   },
   "outputs": [
    {
     "data": {
      "text/plain": [
       "True"
      ]
     },
     "execution_count": 49,
     "metadata": {},
     "output_type": "execute_result"
    }
   ],
   "source": [
    "i%2 == 0 "
   ]
  },
  {
   "cell_type": "code",
   "execution_count": null,
   "metadata": {
    "hidden": true
   },
   "outputs": [],
   "source": []
  },
  {
   "cell_type": "code",
   "execution_count": 45,
   "metadata": {
    "hidden": true
   },
   "outputs": [
    {
     "data": {
      "text/plain": [
       "3"
      ]
     },
     "execution_count": 45,
     "metadata": {},
     "output_type": "execute_result"
    }
   ],
   "source": [
    "l"
   ]
  },
  {
   "cell_type": "code",
   "execution_count": 46,
   "metadata": {
    "hidden": true
   },
   "outputs": [
    {
     "data": {
      "text/plain": [
       "9"
      ]
     },
     "execution_count": 46,
     "metadata": {},
     "output_type": "execute_result"
    }
   ],
   "source": [
    "r"
   ]
  },
  {
   "cell_type": "code",
   "execution_count": null,
   "metadata": {
    "hidden": true
   },
   "outputs": [],
   "source": []
  },
  {
   "cell_type": "code",
   "execution_count": null,
   "metadata": {
    "hidden": true
   },
   "outputs": [],
   "source": []
  },
  {
   "cell_type": "code",
   "execution_count": null,
   "metadata": {
    "hidden": true
   },
   "outputs": [],
   "source": []
  },
  {
   "cell_type": "code",
   "execution_count": null,
   "metadata": {
    "hidden": true
   },
   "outputs": [],
   "source": []
  },
  {
   "cell_type": "code",
   "execution_count": null,
   "metadata": {
    "hidden": true
   },
   "outputs": [],
   "source": []
  }
 ],
 "metadata": {
  "kernelspec": {
   "display_name": "Python 2",
   "language": "python",
   "name": "python2"
  },
  "language_info": {
   "codemirror_mode": {
    "name": "ipython",
    "version": 2
   },
   "file_extension": ".py",
   "mimetype": "text/x-python",
   "name": "python",
   "nbconvert_exporter": "python",
   "pygments_lexer": "ipython2",
   "version": "2.7.15"
  }
 },
 "nbformat": 4,
 "nbformat_minor": 2
}
